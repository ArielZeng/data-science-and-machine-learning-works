{
 "cells": [
  {
   "cell_type": "code",
   "execution_count": 1,
   "id": "53bbfd55",
   "metadata": {},
   "outputs": [],
   "source": [
    "%matplotlib inline\n",
    "\n",
    "import numpy as np\n",
    "import pandas as pd\n",
    "from sklearn.datasets import load_iris\n",
    "from sklearn.datasets import load_digits\n",
    "from sklearn.datasets import load_wine\n",
    "from sklearn.model_selection import train_test_split\n",
    "from sklearn.naive_bayes import GaussianNB\n",
    "from sklearn.neighbors import KNeighborsClassifier\n",
    "\n",
    "\n",
    "import numpy as np\n",
    "import matplotlib.pyplot as plt\n",
    "from scipy import stats\n",
    "from sklearn.svm import SVC # \"Support vector \n"
   ]
  },
  {
   "cell_type": "code",
   "execution_count": 2,
   "id": "e08f90ca",
   "metadata": {},
   "outputs": [
    {
     "data": {
      "image/png": "[encoded data removed]",
      "text/plain": [
       "<Figure size 432x288 with 9 Axes>"
      ]
     },
     "metadata": {
      "needs_background": "light"
     },
     "output_type": "display_data"
    }
   ],
   "source": [
    "#dataset1\n",
    "X_iris, y_iris = load_iris(return_X_y=True)\n",
    "#dataset2\n",
    "X_digits, y_digits = load_digits(return_X_y=True)\n",
    "#dataset3\n",
    "df = pd.read_csv('mnist.csv', header=None)\n",
    "data = df.values\n",
    "\n",
    "# 2.\n",
    "y_mnist_labels = data[:, 0]\n",
    "X_mnist_images = data[:, 1:]\n",
    "\n",
    "df.iloc[:, 0].value_counts()\n",
    "\n",
    "for index, (image, label) in enumerate(list(zip(X_mnist_images, y_mnist_labels))[:9]):\n",
    "    image = image.reshape(28, 28)\n",
    "    plt.subplot(1, 9, index + 1)\n",
    "    plt.imshow(image, cmap=plt.cm.gray_r)\n",
    "    plt.title('Label: %i' % label)"
   ]
  },
  {
   "cell_type": "code",
   "execution_count": 3,
   "id": "d8e56d1d",
   "metadata": {},
   "outputs": [
    {
     "name": "stdout",
     "output_type": "stream",
     "text": [
      "iris data: GaussianNB \t\tacc=0.9777777777777777, cv mean score = 0.9327272727272728\n",
      "iris data: KNeighborsClassifier\t acc=1.0, cv mean score = 0.9418181818181818\n",
      "iris data: SVM \t\t\tacc=1.0, cv mean score = 0.9618181818181817\n",
      "iris data: TreeCART \t\tacc=1.0, cv mean score = 0.9336363636363638\n",
      "iris data: Tree C4.5 \t\tacc=1.0, cv mean score = 0.9245454545454546\n"
     ]
    }
   ],
   "source": [
    "from sklearn.model_selection import KFold\n",
    "from sklearn.model_selection import cross_val_score\n",
    "from numpy import mean\n",
    "from numpy import std\n",
    "from sklearn.neighbors import KNeighborsClassifier\n",
    "from sklearn.svm import SVC # \"Support vector\n",
    "from sklearn.tree import DecisionTreeClassifier\n",
    "\n",
    "def get_acc_using_cross_validate(model, X, y, X_test, y_test):\n",
    "    # prepare the cross-validation procedure\n",
    "    cv = KFold(n_splits=10, random_state=1, shuffle=True)\n",
    "    # evaluate model\n",
    "    scores = cross_val_score(model, X, y, scoring='accuracy', cv=cv, n_jobs=-1)\n",
    "    # report performance\n",
    "    # print('Accuracy: %.3f (%.3f)' % (mean(scores), std(scores)))\n",
    "    \n",
    "    y_pred = model.fit(X, y).predict(X_test)\n",
    "    acc = (y_test ==y_pred).sum() / X_test.shape[0]\n",
    "    return model, mean(scores), std(scores), acc\n",
    "    \n",
    "def class_with_5_models(X_input, y_input, model_name):\n",
    "    X_train, X_test, y_train, y_test = train_test_split(X_input, y_input, test_size=0.3, random_state=42)\n",
    "\n",
    "    gnb = GaussianNB()\n",
    "    gnb, mean_score, std_score, acc = get_acc_using_cross_validate(gnb, X_train, y_train, X_test, y_test)\n",
    "    print(f\"{model_name} GaussianNB \\t\\tacc={acc}, cv mean score = {mean_score}\")\n",
    "\n",
    "    neigh = KNeighborsClassifier(n_neighbors=3,algorithm='kd_tree')\n",
    "    neigh, mean_score, std_score, acc = get_acc_using_cross_validate(neigh, X_train, y_train, X_test, y_test)\n",
    "    print(f\"{model_name} KNeighborsClassifier\\t acc={acc}, cv mean score = {mean_score}\")\n",
    "\n",
    "    svc = SVC(kernel='linear', C=0.1)\n",
    "    svc, mean_score, std_score, acc = get_acc_using_cross_validate(svc, X_train, y_train, X_test, y_test)\n",
    "    print(f\"{model_name} SVM \\t\\t\\tacc={acc}, cv mean score = {mean_score}\")\n",
    "\n",
    "    # 创建CART模型\n",
    "    cart_model = DecisionTreeClassifier(criterion='gini')\n",
    "    cart_model, mean_score, std_score, acc = get_acc_using_cross_validate(cart_model, X_train, y_train, X_test, y_test)\n",
    "    print(f\"{model_name} TreeCART \\t\\tacc={acc}, cv mean score = {mean_score}\")\n",
    "\n",
    "\n",
    "    # 创建基于信息增益的模型（类似C4.5）\n",
    "    c45_model = DecisionTreeClassifier(criterion='entropy')\n",
    "    c45_model, mean_score, std_score, acc = get_acc_using_cross_validate(c45_model, X_train, y_train, X_test, y_test)\n",
    "    print(f\"{model_name} Tree C4.5 \\t\\tacc={acc}, cv mean score = {mean_score}\")\n",
    "\n",
    "#dataset1    \n",
    "class_with_5_models(X_iris, y_iris, \"iris data:\")"
   ]
  },
  {
   "cell_type": "code",
   "execution_count": 4,
   "id": "abc5dd8f",
   "metadata": {},
   "outputs": [
    {
     "name": "stdout",
     "output_type": "stream",
     "text": [
      "mnist digits: GaussianNB \t\tacc=0.615, cv mean score = 0.6269047619047619\n",
      "mnist digits: KNeighborsClassifier\t acc=0.9394444444444444, cv mean score = 0.9323809523809523\n",
      "mnist digits: SVM \t\t\tacc=0.9266666666666666, cv mean score = 0.9302380952380952\n",
      "mnist digits: TreeCART \t\tacc=0.7683333333333333, cv mean score = 0.7754761904761904\n",
      "mnist digits: Tree C4.5 \t\tacc=0.7966666666666666, cv mean score = 0.7769047619047619\n"
     ]
    }
   ],
   "source": [
    "#dataset3\n",
    "class_with_5_models(X_mnist_images, y_mnist_labels, \"mnist digits:\")"
   ]
  },
  {
   "cell_type": "code",
   "execution_count": 5,
   "id": "8f52745d",
   "metadata": {},
   "outputs": [
    {
     "name": "stdout",
     "output_type": "stream",
     "text": [
      "digits data: GaussianNB \t\tacc=0.8518518518518519, cv mean score = 0.8297587301587303\n",
      "digits data: KNeighborsClassifier\t acc=0.9888888888888889, cv mean score = 0.9856698412698414\n",
      "digits data: SVM \t\t\tacc=0.9796296296296296, cv mean score = 0.9817142857142859\n",
      "digits data: TreeCART \t\tacc=0.8444444444444444, cv mean score = 0.8202222222222222\n",
      "digits data: Tree C4.5 \t\tacc=0.8740740740740741, cv mean score = 0.8511682539682539\n"
     ]
    }
   ],
   "source": [
    "#dataset2\n",
    "class_with_5_models(X_digits, y_digits, \"digits data:\")"
   ]
  },
  {
   "cell_type": "code",
   "execution_count": 6,
   "id": "2dbcc7b7",
   "metadata": {},
   "outputs": [
    {
     "data": {
      "image/png": "[encoded data removed]",
      "text/plain": [
       "<Figure size 432x288 with 9 Axes>"
      ]
     },
     "metadata": {
      "needs_background": "light"
     },
     "output_type": "display_data"
    }
   ],
   "source": [
    "#observe dataset2\n",
    "from sklearn import datasets\n",
    "digits = datasets.load_digits()\n",
    "\n",
    "for index, (image, label) in enumerate(list(zip(digits.images, digits.target))[:9]):\n",
    "    plt.subplot(1, 9, index + 1)\n",
    "    plt.imshow(image, cmap=plt.cm.gray_r)\n",
    "    plt.title('Label: %i' % label)"
   ]
  },
  {
   "cell_type": "code",
   "execution_count": 7,
   "id": "b0760693",
   "metadata": {},
   "outputs": [],
   "source": [
    "# !conda install -y scikit-image\n",
    "from scipy.ndimage import rotate, shift\n",
    "from skimage.util import random_noise, pad\n",
    "\n",
    "def augment_image_8x8(image):\n",
    "    image = image.reshape(8, 8)\n",
    "    padded_image = np.pad(image, ((2, 2), (2, 2)), mode='constant')\n",
    "    \n",
    "    # rotate\n",
    "    angle = np.random.uniform(-5, 5)  # This will generate a random float between -5 and 5\n",
    "    rotated = rotate(padded_image, angle=angle, reshape=False)\n",
    "    rotated = rotated[2:-2, 2:-2] \n",
    "\n",
    "    return rotated.reshape(64)\n",
    "\n",
    "def augment_image_28x28(image):\n",
    "    image = image.reshape(28, 28)\n",
    "    padded_image = np.pad(image, ((2, 2), (2, 2)), mode='constant')\n",
    "\n",
    "    angle = np.random.uniform(-6, 6)  \n",
    "    rotated = rotate(padded_image, angle=angle, reshape=False)\n",
    "    rotated = rotated[2:-2, 2:-2] \n",
    "        \n",
    "#     # noise\n",
    "#     noised = random_noise(rotated, mode='gaussian', var=0.01)\n",
    "\n",
    "    return rotated.reshape(784)\n",
    "\n",
    "# test\n",
    "# image = digits.images[0]\n",
    "# noised = augment_image(image)\n",
    "\n",
    "def generate_datasets(X_digits, augment_func):\n",
    "    # Dataset 1: Original dataset\n",
    "    dataset_1 = X_digits\n",
    "    \n",
    "    # Dataset 2: Original + 1x Augmented\n",
    "    augmented_1x = np.array([augment_func(img) for img in X_digits])\n",
    "    dataset_2 = np.concatenate([X_digits, augmented_1x])\n",
    "    \n",
    "    # Dataset 3: Original + 1x Augmented + 2x Augmented\n",
    "    augmented_2x = np.array([augment_func(img) for img in X_digits])\n",
    "    dataset_3 = np.concatenate([X_digits, augmented_1x, augmented_2x])\n",
    "    \n",
    "    # Dataset 4: Original + 1x Augmented + 2x Augmented + 3x Augmented\n",
    "    augmented_3x = np.array([augment_func(img) for img in X_digits])\n",
    "    dataset_4 = np.concatenate([X_digits, augmented_1x, augmented_2x, augmented_3x])\n",
    "    \n",
    "    # Dataset 5: Original + 1x Augmented + 2x Augmented + 3x Augmented + 4x Augmented\n",
    "    augmented_4x = np.array([augment_func(img) for img in X_digits])\n",
    "    dataset_5 = np.concatenate([X_digits, augmented_1x, augmented_2x, augmented_3x, augmented_4x])\n",
    "    \n",
    "    return dataset_1, dataset_2, dataset_3, dataset_4, dataset_5\n",
    "#dataset2 augment for train \n",
    "X_train, X_test, y_train, y_test = train_test_split(X_digits, y_digits, test_size=0.3, random_state=1)\n",
    "X_datasets_digits = generate_datasets(X_train, augment_image_8x8)"
   ]
  },
  {
   "cell_type": "code",
   "execution_count": 8,
   "id": "c2236283",
   "metadata": {},
   "outputs": [],
   "source": [
    "from scipy.ndimage import gaussian_filter, map_coordinates\n",
    "import numpy as np\n",
    "\n",
    "def elastic_transform(image, alpha, sigma):\n",
    "    random_state = np.random.RandomState(None)\n",
    "    shape = image.shape\n",
    "\n",
    "    dx = gaussian_filter((random_state.rand(*shape) * 2 - 1), sigma, mode=\"constant\", cval=0) * alpha\n",
    "    dy = gaussian_filter((random_state.rand(*shape) * 2 - 1), sigma, mode=\"constant\", cval=0) * alpha\n",
    "\n",
    "    x, y = np.meshgrid(np.arange(shape[0]), np.arange(shape[1]), indexing='ij')\n",
    "    indices = np.reshape(x+dx, (-1, 1)), np.reshape(y+dy, (-1, 1))\n",
    "\n",
    "    return map_coordinates(image, indices, order=1).reshape(shape)\n",
    "\n",
    "def random_eraser(image, p=0.25, s_l=0.02, s_h=0.4, r_1=0.3, r_2=1/0.3, v_l=0, v_h=255):\n",
    "    img_h, img_w = image.shape\n",
    "    p_1 = np.random.rand()\n",
    "\n",
    "    if p_1 > p:\n",
    "        return image\n",
    "\n",
    "    while True:\n",
    "        s = np.random.uniform(s_l, s_h) * img_h * img_w\n",
    "        r = np.random.uniform(r_1, r_2)\n",
    "        w = int(np.sqrt(s / r))\n",
    "        h = int(np.sqrt(s * r))\n",
    "        left = np.random.randint(0, img_w)\n",
    "        top = np.random.randint(0, img_h)\n",
    "\n",
    "        if left + w <= img_w and top + h <= img_h:\n",
    "            break\n",
    "\n",
    "    c = np.random.uniform(v_l, v_h)\n",
    "    image[top:top+h, left:left+w] = c\n",
    "\n",
    "    return image\n",
    "\n",
    "def augment_image_28x28_advanced(image):\n",
    "    image = image.reshape(28, 28)\n",
    "    \n",
    "    padded_image = np.pad(image, ((2, 2), (2, 2)), mode='constant')\n",
    "\n",
    "    angle = np.random.uniform(-6, 6)  \n",
    "    rotated = rotate(padded_image, angle=angle, reshape=False)\n",
    "    rotated = rotated[2:-2, 2:-2] \n",
    "    \n",
    "    # Elastic transform\n",
    "    image = elastic_transform(image, alpha=17, sigma=2)\n",
    "    \n",
    "    # Random erasing\n",
    "    image = random_eraser(image)\n",
    "\n",
    "    return image.reshape(784)\n"
   ]
  },
  {
   "cell_type": "code",
   "execution_count": 9,
   "id": "1a487698",
   "metadata": {},
   "outputs": [
    {
     "name": "stdout",
     "output_type": "stream",
     "text": [
      "Result for XGBoost:\n",
      "Size is 1  times of the origin, result accuracy= 0.9555555555555556\n",
      "Size is 2  times of the origin, result accuracy= 0.9592592592592593\n",
      "Size is 3  times of the origin, result accuracy= 0.9629629629629629\n",
      "Size is 4  times of the origin, result accuracy= 0.9703703703703703\n",
      "Size is 5  times of the origin, result accuracy= 0.9703703703703703\n",
      "Time spent [0.9539997577667236, 3.3130996227264404, 6.432000160217285, 9.692999839782715, 14.289999961853027]\n"
     ]
    },
    {
     "data": {
      "text/plain": [
       "[<matplotlib.lines.Line2D at 0x1f64ad42320>]"
      ]
     },
     "execution_count": 9,
     "metadata": {},
     "output_type": "execute_result"
    },
    {
     "data": {
      "image/png": "[encoded data removed]",
      "text/plain": [
       "<Figure size 432x288 with 1 Axes>"
      ]
     },
     "metadata": {
      "needs_background": "light"
     },
     "output_type": "display_data"
    }
   ],
   "source": [
    "# !conda install -y xgboost\n",
    "# !conda install -y lightgbm\n",
    "# !conda install -y catboost\n",
    "from xgboost import XGBClassifier\n",
    "from sklearn.model_selection import train_test_split\n",
    "from sklearn.metrics import accuracy_score\n",
    "import time\n",
    "\n",
    "# print(y_digits[:5])\n",
    "index = 1\n",
    "print(\"Result for XGBoost:\")\n",
    "\n",
    "time_list = []\n",
    "for X in X_datasets_digits:\n",
    "    start = time.time()\n",
    "    y_tiled = np.tile(y_train, index)    \n",
    "    gbm = XGBClassifier(max_depth=3, n_estimators=300,learning_rate=0.05, use_label_encoder=False, eval_metric='mlogloss').fit(X, y_tiled)\n",
    "    y_pred = gbm.predict(X_test)\n",
    "    accuracy = accuracy_score(y_test, y_pred)\n",
    "    print(\"Size is\", index, \" times of the origin, result accuracy=\", accuracy)\n",
    "    index += 1\n",
    "    time_list.append(time.time() - start)\n",
    "    \n",
    "print(f\"Time spent {time_list}\")\n",
    "plt.plot(time_list)"
   ]
  },
  {
   "cell_type": "code",
   "execution_count": 10,
   "id": "7060ae23",
   "metadata": {},
   "outputs": [
    {
     "name": "stdout",
     "output_type": "stream",
     "text": [
      "Training until validation scores don't improve for 5 rounds\n",
      "Did not meet early stopping. Best iteration is:\n",
      "[20]\tvalid_0's multi_logloss: 0.563494\n",
      "Training until validation scores don't improve for 5 rounds\n",
      "Did not meet early stopping. Best iteration is:\n",
      "[20]\tvalid_0's multi_logloss: 0.525486\n",
      "Training until validation scores don't improve for 5 rounds\n",
      "Did not meet early stopping. Best iteration is:\n",
      "[20]\tvalid_0's multi_logloss: 0.505947\n",
      "Training until validation scores don't improve for 5 rounds\n",
      "Did not meet early stopping. Best iteration is:\n",
      "[20]\tvalid_0's multi_logloss: 0.498311\n",
      "Training until validation scores don't improve for 5 rounds\n",
      "Did not meet early stopping. Best iteration is:\n",
      "[20]\tvalid_0's multi_logloss: 0.493707\n",
      "\n",
      "\n",
      "Result for LightGBM: \n",
      "Size is 1 times of the origin, result accuracy= 0.9314814814814815\n",
      "Size is 2 times of the origin, result accuracy= 0.937037037037037\n",
      "Size is 3 times of the origin, result accuracy= 0.95\n",
      "Size is 4 times of the origin, result accuracy= 0.9444444444444444\n",
      "Size is 5 times of the origin, result accuracy= 0.9481481481481482\n",
      "\n",
      "Time spent [0.10899972915649414, 0.2780001163482666, 0.29200005531311035, 0.31400036811828613, 0.3689994812011719]\n"
     ]
    },
    {
     "data": {
      "text/plain": [
       "[<matplotlib.lines.Line2D at 0x1f64b0a2978>]"
      ]
     },
     "execution_count": 10,
     "metadata": {},
     "output_type": "execute_result"
    },
    {
     "data": {
      "image/png": "[encoded data removed]",
      "text/plain": [
       "<Figure size 432x288 with 1 Axes>"
      ]
     },
     "metadata": {
      "needs_background": "light"
     },
     "output_type": "display_data"
    }
   ],
   "source": [
    "import lightgbm as lgb\n",
    "from sklearn.model_selection import train_test_split\n",
    "from sklearn.metrics import mean_squared_error\n",
    "from sklearn.datasets import load_breast_cancer\n",
    "\n",
    "result_str = \"\\n\\nResult for LightGBM: \\n\"\n",
    "index = 1\n",
    "time_list = []\n",
    "for X in X_datasets_digits:\n",
    "    start = time.time()\n",
    "    y_tiled = np.tile(y_train, index)\n",
    "    lgb_train = lgb.Dataset(X, y_tiled)\n",
    "    lgb_eval = lgb.Dataset(X_test, y_test, reference=lgb_train)\n",
    "    # specify your configurations as a dict\n",
    "    params = {\n",
    "     'boosting_type': 'gbdt', 'objective': 'multiclass', 'num_class': 10,\n",
    "     'metric': 'multi_logloss','num_leaves': 31,\n",
    "     'learning_rate': 0.05,'feature_fraction': 0.9,\n",
    "     'bagging_fraction': 0.8,'bagging_freq': 5,\n",
    "     'verbose': -1\n",
    "    }\n",
    "    # training the model\n",
    "    gbm = lgb.train(params,\n",
    "     lgb_train,\n",
    "     num_boost_round=20,\n",
    "     valid_sets=lgb_eval,\n",
    "     verbose_eval = 0,\n",
    "     callbacks=[lgb.early_stopping(stopping_rounds=5)])\n",
    "\n",
    "    # prediction\n",
    "    y_pred = gbm.predict(X_test, num_iteration=gbm.best_iteration)\n",
    "    y_pred_class = np.argmax(y_pred, axis=1)\n",
    "    \n",
    "    accuracy = accuracy_score(y_test, y_pred_class)\n",
    "    result_str += (f\"Size is {index} times of the origin, result accuracy= {accuracy}\\n\")\n",
    "    index += 1\n",
    "    time_list.append(time.time() - start)\n",
    "    \n",
    "print(result_str)\n",
    "print(f\"Time spent {time_list}\")\n",
    "plt.plot(time_list)"
   ]
  },
  {
   "cell_type": "code",
   "execution_count": 11,
   "id": "e2a09dde",
   "metadata": {},
   "outputs": [
    {
     "name": "stdout",
     "output_type": "stream",
     "text": [
      "\n",
      "\n",
      "Result for CatBoost: \n",
      "Size is 1 times of the origin, result accuracy= 0.9611111111111111\n",
      "Size is 2 times of the origin, result accuracy= 0.9666666666666667\n",
      "Size is 3 times of the origin, result accuracy= 0.9703703703703703\n",
      "Size is 4 times of the origin, result accuracy= 0.9592592592592593\n",
      "Size is 5 times of the origin, result accuracy= 0.9722222222222222\n",
      "\n",
      "Time spent [0.34865856170654297, 1.2929983139038086, 1.3709995746612549, 1.4469997882843018, 1.5179731845855713]\n"
     ]
    },
    {
     "data": {
      "text/plain": [
       "[<matplotlib.lines.Line2D at 0x1f64b4d7ef0>]"
      ]
     },
     "execution_count": 11,
     "metadata": {},
     "output_type": "execute_result"
    },
    {
     "data": {
      "image/png": "[encoded data removed]",
      "text/plain": [
       "<Figure size 432x288 with 1 Axes>"
      ]
     },
     "metadata": {
      "needs_background": "light"
     },
     "output_type": "display_data"
    }
   ],
   "source": [
    "from catboost import CatBoostClassifier\n",
    "\n",
    "result_str = \"\\n\\nResult for CatBoost: \\n\"\n",
    "index = 1\n",
    "time_list = []\n",
    "for X in X_datasets_digits:\n",
    "    start = time.time()\n",
    "    y_tiled = np.tile(y_train, index)\n",
    "    \n",
    "    # Initialize CatBoostRegressor\n",
    "    model = CatBoostClassifier(iterations=50,\n",
    "     learning_rate=0.19,loss_function='MultiClass', verbose=0,\n",
    "     depth=5)\n",
    "    # Fit model\n",
    "    model.fit(X, y_tiled)\n",
    "    # Get predictions\n",
    "    preds = model.predict(X_test)\n",
    "    accuracy = accuracy_score(y_test, preds)\n",
    "    result_str += (f\"Size is {index} times of the origin, result accuracy= {accuracy}\\n\")\n",
    "    index += 1\n",
    "    time_list.append(time.time() - start)\n",
    "    \n",
    "print(result_str)\n",
    "print(f\"Time spent {time_list}\")\n",
    "plt.plot(time_list)"
   ]
  },
  {
   "cell_type": "code",
   "execution_count": 12,
   "id": "ed0e416f",
   "metadata": {},
   "outputs": [],
   "source": [
    "X_train, X_test, y_train, y_test = train_test_split(X_mnist_images, y_mnist_labels, test_size=0.3, random_state=1)\n",
    "X_mnist_datasets = generate_datasets(X_train, augment_image_28x28)"
   ]
  },
  {
   "cell_type": "code",
   "execution_count": 13,
   "id": "0df449de",
   "metadata": {},
   "outputs": [
    {
     "name": "stdout",
     "output_type": "stream",
     "text": [
      "Result for XGBoost:\n",
      "Size is 1  times of the origin, result accuracy= 0.9272222222222222\n",
      "Size is 2  times of the origin, result accuracy= 0.9311111111111111\n",
      "Size is 3  times of the origin, result accuracy= 0.9322222222222222\n",
      "Size is 4  times of the origin, result accuracy= 0.9255555555555556\n",
      "Size is 5  times of the origin, result accuracy= 0.9305555555555556\n",
      "Time spent [29.996980667114258, 195.34919381141663, 364.63635540008545, 535.5972640514374, 706.0142600536346]\n"
     ]
    },
    {
     "data": {
      "text/plain": [
       "[<matplotlib.lines.Line2D at 0x1f64b566f98>]"
      ]
     },
     "execution_count": 13,
     "metadata": {},
     "output_type": "execute_result"
    },
    {
     "data": {
      "image/png": "[encoded data removed]",
      "text/plain": [
       "<Figure size 432x288 with 1 Axes>"
      ]
     },
     "metadata": {
      "needs_background": "light"
     },
     "output_type": "display_data"
    }
   ],
   "source": [
    "######################\n",
    "# start mnist datasets\n",
    "#####################\n",
    "\n",
    "\n",
    "# print(y_digits[:5])\n",
    "index = 1\n",
    "print(\"Result for XGBoost:\")\n",
    "time_list = []\n",
    "\n",
    "for X in X_mnist_datasets:\n",
    "    start = time.time()\n",
    "    y_tiled = np.tile(y_train, index)    \n",
    "    gbm = XGBClassifier(max_depth=3, n_estimators=300,learning_rate=0.05, use_label_encoder=False, eval_metric='mlogloss').fit(X, y_tiled)\n",
    "    y_pred = gbm.predict(X_test)\n",
    "    accuracy = accuracy_score(y_test, y_pred)\n",
    "    print(\"Size is\", index, \" times of the origin, result accuracy=\", accuracy)\n",
    "    index += 1\n",
    "    time_list.append(time.time() - start)\n",
    "    \n",
    "print(f\"Time spent {time_list}\")\n",
    "plt.plot(time_list)"
   ]
  },
  {
   "cell_type": "code",
   "execution_count": 14,
   "id": "041ed752",
   "metadata": {},
   "outputs": [
    {
     "name": "stdout",
     "output_type": "stream",
     "text": [
      "Training until validation scores don't improve for 5 rounds\n",
      "Did not meet early stopping. Best iteration is:\n",
      "[20]\tvalid_0's multi_logloss: 0.633419\n",
      "Training until validation scores don't improve for 5 rounds\n",
      "Did not meet early stopping. Best iteration is:\n",
      "[20]\tvalid_0's multi_logloss: 0.589007\n",
      "Training until validation scores don't improve for 5 rounds\n",
      "Did not meet early stopping. Best iteration is:\n",
      "[20]\tvalid_0's multi_logloss: 0.577885\n",
      "Training until validation scores don't improve for 5 rounds\n",
      "Did not meet early stopping. Best iteration is:\n",
      "[20]\tvalid_0's multi_logloss: 0.58022\n",
      "Training until validation scores don't improve for 5 rounds\n",
      "Did not meet early stopping. Best iteration is:\n",
      "[20]\tvalid_0's multi_logloss: 0.578197\n",
      "\n",
      "\n",
      "Result for LightGBM: \n",
      "Size is 1 times of the origin, result accuracy= 0.9055555555555556\n",
      "Size is 2 times of the origin, result accuracy= 0.9172222222222223\n",
      "Size is 3 times of the origin, result accuracy= 0.9216666666666666\n",
      "Size is 4 times of the origin, result accuracy= 0.92\n",
      "Size is 5 times of the origin, result accuracy= 0.9216666666666666\n",
      "\n",
      "Time spent [1.6243093013763428, 4.275224208831787, 5.6930177211761475, 5.9562578201293945, 6.739887714385986]\n"
     ]
    },
    {
     "data": {
      "text/plain": [
       "[<matplotlib.lines.Line2D at 0x1f649ef8048>]"
      ]
     },
     "execution_count": 14,
     "metadata": {},
     "output_type": "execute_result"
    },
    {
     "data": {
      "image/png": "[encoded data removed]",
      "text/plain": [
       "<Figure size 432x288 with 1 Axes>"
      ]
     },
     "metadata": {
      "needs_background": "light"
     },
     "output_type": "display_data"
    }
   ],
   "source": [
    "\n",
    "\n",
    "result_str = \"\\n\\nResult for LightGBM: \\n\"\n",
    "index = 1\n",
    "time_list = []\n",
    "for X in X_mnist_datasets:\n",
    "    start = time.time()\n",
    "    y_tiled = np.tile(y_train, index)\n",
    "    lgb_train = lgb.Dataset(X, y_tiled)\n",
    "    lgb_eval = lgb.Dataset(X_test, y_test, reference=lgb_train)\n",
    "    # specify your configurations as a dict\n",
    "    params = {\n",
    "     'boosting_type': 'gbdt', 'objective': 'multiclass', 'num_class': 10,\n",
    "     'metric': 'multi_logloss','num_leaves': 31,\n",
    "     'learning_rate': 0.05,'feature_fraction': 0.9,\n",
    "     'bagging_fraction': 0.8,'bagging_freq': 5,\n",
    "     'verbose': -1\n",
    "    }\n",
    "    # training the model\n",
    "    gbm = lgb.train(params,\n",
    "     lgb_train,\n",
    "     num_boost_round=20,\n",
    "     valid_sets=lgb_eval,\n",
    "     verbose_eval = 0,\n",
    "     callbacks=[lgb.early_stopping(stopping_rounds=5)])\n",
    "\n",
    "    # prediction\n",
    "    y_pred = gbm.predict(X_test, num_iteration=gbm.best_iteration)\n",
    "    y_pred_class = np.argmax(y_pred, axis=1)\n",
    "    \n",
    "    accuracy = accuracy_score(y_test, y_pred_class)\n",
    "    result_str += (f\"Size is {index} times of the origin, result accuracy= {accuracy}\\n\")\n",
    "    index += 1\n",
    "    time_list.append(time.time() - start)\n",
    "    \n",
    "print(result_str)\n",
    "print(f\"Time spent {time_list}\")\n",
    "plt.plot(time_list)"
   ]
  },
  {
   "cell_type": "code",
   "execution_count": 15,
   "id": "5628eab8",
   "metadata": {},
   "outputs": [
    {
     "name": "stdout",
     "output_type": "stream",
     "text": [
      "\n",
      "\n",
      "Result for CatBoost: \n",
      "Size is 1 times of the origin, result accuracy= 0.9066666666666666\n",
      "Size is 2 times of the origin, result accuracy= 0.9172222222222223\n",
      "Size is 3 times of the origin, result accuracy= 0.9144444444444444\n",
      "Size is 4 times of the origin, result accuracy= 0.9211111111111111\n",
      "Size is 5 times of the origin, result accuracy= 0.9266666666666666\n",
      "\n",
      "Time spent [7.593669176101685, 16.39145541191101, 18.411999225616455, 21.25804615020752, 23.234034061431885]\n"
     ]
    },
    {
     "data": {
      "text/plain": [
       "[<matplotlib.lines.Line2D at 0x1f649f054a8>]"
      ]
     },
     "execution_count": 15,
     "metadata": {},
     "output_type": "execute_result"
    },
    {
     "data": {
      "image/png": "[encoded data removed]",
      "text/plain": [
       "<Figure size 432x288 with 1 Axes>"
      ]
     },
     "metadata": {
      "needs_background": "light"
     },
     "output_type": "display_data"
    }
   ],
   "source": [
    "\n",
    "result_str = \"\\n\\nResult for CatBoost: \\n\"\n",
    "index = 1\n",
    "time_list = []\n",
    "for X in X_mnist_datasets:\n",
    "    start = time.time()\n",
    "    y_tiled = np.tile(y_train, index)\n",
    "    \n",
    "    # Initialize CatBoostRegressor\n",
    "    model = CatBoostClassifier(iterations=50,\n",
    "     learning_rate=0.19,loss_function='MultiClass', verbose=0,\n",
    "     depth=5)\n",
    "    # Fit model\n",
    "    model.fit(X, y_tiled)\n",
    "    # Get predictions\n",
    "    preds = model.predict(X_test)\n",
    "    accuracy = accuracy_score(y_test, preds)\n",
    "    result_str += (f\"Size is {index} times of the origin, result accuracy= {accuracy}\\n\")\n",
    "    index += 1\n",
    "    time_list.append(time.time() - start)\n",
    "    \n",
    "print(result_str)\n",
    "print(f\"Time spent {time_list}\")\n",
    "plt.plot(time_list)"
   ]
  }
 ],
 "metadata": {
  "kernelspec": {
   "display_name": "Python 3 (ipykernel)",
   "language": "python",
   "name": "python3"
  },
  "language_info": {
   "codemirror_mode": {
    "name": "ipython",
    "version": 3
   },
   "file_extension": ".py",
   "mimetype": "text/x-python",
   "name": "python",
   "nbconvert_exporter": "python",
   "pygments_lexer": "ipython3",
   "version": "3.7.16"
  }
 },
 "nbformat": 4,
 "nbformat_minor": 5
}
