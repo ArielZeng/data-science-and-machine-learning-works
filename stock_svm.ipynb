{
 "cells": [
  {
   "cell_type": "code",
   "execution_count": 3,
   "id": "c6a87531",
   "metadata": {},
   "outputs": [
    {
     "data": {
      "text/html": [
       "<div>\n",
       "<style scoped>\n",
       "    .dataframe tbody tr th:only-of-type {\n",
       "        vertical-align: middle;\n",
       "    }\n",
       "\n",
       "    .dataframe tbody tr th {\n",
       "        vertical-align: top;\n",
       "    }\n",
       "\n",
       "    .dataframe thead th {\n",
       "        text-align: right;\n",
       "    }\n",
       "</style>\n",
       "<table border=\"1\" class=\"dataframe\">\n",
       "  <thead>\n",
       "    <tr style=\"text-align: right;\">\n",
       "      <th></th>\n",
       "      <th>Year</th>\n",
       "      <th>Week_Number</th>\n",
       "      <th>mean_return</th>\n",
       "      <th>volatility</th>\n",
       "      <th>label</th>\n",
       "    </tr>\n",
       "  </thead>\n",
       "  <tbody>\n",
       "    <tr>\n",
       "      <th>54</th>\n",
       "      <td>2022</td>\n",
       "      <td>1</td>\n",
       "      <td>-0.2012</td>\n",
       "      <td>0.842329</td>\n",
       "      <td>red</td>\n",
       "    </tr>\n",
       "    <tr>\n",
       "      <th>55</th>\n",
       "      <td>2022</td>\n",
       "      <td>2</td>\n",
       "      <td>0.1002</td>\n",
       "      <td>0.604448</td>\n",
       "      <td>green</td>\n",
       "    </tr>\n",
       "    <tr>\n",
       "      <th>56</th>\n",
       "      <td>2022</td>\n",
       "      <td>3</td>\n",
       "      <td>0.1525</td>\n",
       "      <td>0.591757</td>\n",
       "      <td>green</td>\n",
       "    </tr>\n",
       "    <tr>\n",
       "      <th>57</th>\n",
       "      <td>2022</td>\n",
       "      <td>4</td>\n",
       "      <td>-0.3576</td>\n",
       "      <td>1.847664</td>\n",
       "      <td>red</td>\n",
       "    </tr>\n",
       "    <tr>\n",
       "      <th>58</th>\n",
       "      <td>2022</td>\n",
       "      <td>5</td>\n",
       "      <td>-0.1206</td>\n",
       "      <td>0.762250</td>\n",
       "      <td>red</td>\n",
       "    </tr>\n",
       "  </tbody>\n",
       "</table>\n",
       "</div>"
      ],
      "text/plain": [
       "    Year  Week_Number  mean_return  volatility  label\n",
       "54  2022            1      -0.2012    0.842329    red\n",
       "55  2022            2       0.1002    0.604448  green\n",
       "56  2022            3       0.1525    0.591757  green\n",
       "57  2022            4      -0.3576    1.847664    red\n",
       "58  2022            5      -0.1206    0.762250    red"
      ]
     },
     "execution_count": 3,
     "metadata": {},
     "output_type": "execute_result"
    }
   ],
   "source": [
    "#1\n",
    "import numpy as np\n",
    "from sklearn.model_selection import train_test_split\n",
    "# from sklearn.neighbors import KNeighborsClassifier\n",
    "from sklearn.metrics import accuracy_score\n",
    "import pandas as pd\n",
    "\n",
    "\n",
    "df = pd.read_csv(\"ZIONO_weekly_return_volatility.csv\")\n",
    "df.label = df.label.fillna(method='ffill')\n",
    "df_21 = df[df.Year==2021]\n",
    "df_22 = df[df.Year==2022]\n",
    "df_22.head(10)\n",
    "df_22.head() # mean"
   ]
  },
  {
   "cell_type": "code",
   "execution_count": 7,
   "id": "a547d975",
   "metadata": {},
   "outputs": [
    {
     "data": {
      "text/html": [
       "<div>\n",
       "<style scoped>\n",
       "    .dataframe tbody tr th:only-of-type {\n",
       "        vertical-align: middle;\n",
       "    }\n",
       "\n",
       "    .dataframe tbody tr th {\n",
       "        vertical-align: top;\n",
       "    }\n",
       "\n",
       "    .dataframe thead th {\n",
       "        text-align: right;\n",
       "    }\n",
       "</style>\n",
       "<table border=\"1\" class=\"dataframe\">\n",
       "  <thead>\n",
       "    <tr style=\"text-align: right;\">\n",
       "      <th></th>\n",
       "      <th>x1</th>\n",
       "      <th>x2</th>\n",
       "      <th>y</th>\n",
       "    </tr>\n",
       "  </thead>\n",
       "  <tbody>\n",
       "    <tr>\n",
       "      <th>2</th>\n",
       "      <td>-0.2586</td>\n",
       "      <td>0.729467</td>\n",
       "      <td>0</td>\n",
       "    </tr>\n",
       "    <tr>\n",
       "      <th>3</th>\n",
       "      <td>0.0776</td>\n",
       "      <td>0.787634</td>\n",
       "      <td>1</td>\n",
       "    </tr>\n",
       "    <tr>\n",
       "      <th>4</th>\n",
       "      <td>0.9710</td>\n",
       "      <td>2.437100</td>\n",
       "      <td>0</td>\n",
       "    </tr>\n",
       "    <tr>\n",
       "      <th>5</th>\n",
       "      <td>-0.5042</td>\n",
       "      <td>1.114784</td>\n",
       "      <td>1</td>\n",
       "    </tr>\n",
       "    <tr>\n",
       "      <th>6</th>\n",
       "      <td>0.1458</td>\n",
       "      <td>1.217830</td>\n",
       "      <td>0</td>\n",
       "    </tr>\n",
       "  </tbody>\n",
       "</table>\n",
       "</div>"
      ],
      "text/plain": [
       "       x1        x2  y\n",
       "2 -0.2586  0.729467  0\n",
       "3  0.0776  0.787634  1\n",
       "4  0.9710  2.437100  0\n",
       "5 -0.5042  1.114784  1\n",
       "6  0.1458  1.217830  0"
      ]
     },
     "execution_count": 7,
     "metadata": {},
     "output_type": "execute_result"
    }
   ],
   "source": [
    "# 1 , construct df_train\n",
    "from sklearn.naive_bayes import GaussianNB\n",
    "from sklearn.preprocessing import LabelEncoder\n",
    "from sklearn.metrics import accuracy_score\n",
    "from sklearn.metrics import confusion_matrix\n",
    "from scipy import stats\n",
    "\n",
    "x_21 = df_21[[\"mean_return\", \"volatility\"]].values\n",
    "le = LabelEncoder()\n",
    "y_21 = le.fit_transform(df_21[\"label\"].values)\n",
    "y_22 = le.transform(df_22[\"label\"].values)\n",
    "\n",
    "\n",
    "df_train = pd.DataFrame({'x1': df_21[\"mean_return\"].values, 'x2': df_21['volatility'], 'y': y_21})\n",
    "df_train.head()"
   ]
  },
  {
   "cell_type": "code",
   "execution_count": 30,
   "id": "6dd0adb0",
   "metadata": {},
   "outputs": [
    {
     "data": {
      "text/plain": [
       "array([1, 0, 0, 1, 1, 1, 0, 1, 0, 1, 0, 1, 0, 1, 1, 1, 0, 1, 1, 0, 0, 0,\n",
       "       1, 1, 1, 0, 0, 1, 0, 0, 1, 0, 1, 0, 0, 1, 1, 0, 0, 1, 0, 1, 0, 1,\n",
       "       0, 1, 0, 0, 1, 0, 1, 0])"
      ]
     },
     "execution_count": 30,
     "metadata": {},
     "output_type": "execute_result"
    }
   ],
   "source": [
    "from sklearn.preprocessing import StandardScaler\n",
    "from sklearn.discriminant_analysis import LinearDiscriminantAnalysis as LDA\n",
    "import sklearn.svm as svm\n",
    "\n",
    "X = df_train[[ 'x1', 'x2']]. values\n",
    "scaler = StandardScaler(). fit (X)\n",
    "X = scaler.transform (X)\n",
    "Y = df_train['y']. values\n",
    "\n",
    "\n",
    "# 建立模型\n",
    "model_line_svm = svm.SVC(C=10, kernel='linear')\n",
    "\n",
    "# 训练模型,x为训练集， y为标签\n",
    "model_line_svm.fit(X, Y)\n",
    "\n",
    "new_x = scaler.transform(df_22[[\"mean_return\", \"volatility\"]].values)\n",
    "predicted = model_line_svm.predict ( new_x )\n",
    "line_predict = predicted\n",
    "predicted"
   ]
  },
  {
   "cell_type": "code",
   "execution_count": 11,
   "id": "82095a83",
   "metadata": {},
   "outputs": [
    {
     "data": {
      "text/plain": [
       "array([1, 0, 0, 1, 1, 1, 0, 1, 0, 1, 0, 1, 0, 1, 1, 1, 0, 1, 1, 0, 0, 0,\n",
       "       1, 1, 1, 0, 0, 1, 0, 0, 1, 0, 1, 0, 0, 1, 0, 0, 0, 1, 0, 1, 0, 1,\n",
       "       0, 0, 0, 0, 1, 0, 1, 1])"
      ]
     },
     "execution_count": 11,
     "metadata": {},
     "output_type": "execute_result"
    }
   ],
   "source": [
    "y_22"
   ]
  },
  {
   "cell_type": "code",
   "execution_count": 13,
   "id": "6ee1b37a",
   "metadata": {},
   "outputs": [
    {
     "data": {
      "text/plain": [
       "0.9423076923076923"
      ]
     },
     "execution_count": 13,
     "metadata": {},
     "output_type": "execute_result"
    }
   ],
   "source": [
    "from sklearn.metrics import accuracy_score\n",
    "\n",
    "accuracy_score(y_22, predicted)"
   ]
  },
  {
   "cell_type": "code",
   "execution_count": 14,
   "id": "9319ccc2",
   "metadata": {},
   "outputs": [
    {
     "data": {
      "text/plain": [
       "array([[25,  2],\n",
       "       [ 1, 24]], dtype=int64)"
      ]
     },
     "execution_count": 14,
     "metadata": {},
     "output_type": "execute_result"
    }
   ],
   "source": [
    "# 2\n",
    "from sklearn.metrics import confusion_matrix\n",
    "\n",
    "confusion_matrix(y_22, predicted)"
   ]
  },
  {
   "cell_type": "code",
   "execution_count": 17,
   "id": "03d02600",
   "metadata": {},
   "outputs": [
    {
     "data": {
      "text/plain": [
       "(0.96, 0.9230769230769231, 0.96, 0.9230769230769231)"
      ]
     },
     "execution_count": 17,
     "metadata": {},
     "output_type": "execute_result"
    }
   ],
   "source": [
    "# for quiz\n",
    "rec= 24/25\n",
    "prec = 24 / 26\n",
    "\n",
    "from sklearn.metrics import recall_score\n",
    "from sklearn.metrics import precision_score\n",
    "recall_score(y_22, predicted), precision_score(y_22, predicted), rec, prec"
   ]
  },
  {
   "cell_type": "code",
   "execution_count": 20,
   "id": "b214fb61",
   "metadata": {},
   "outputs": [
    {
     "data": {
      "text/plain": [
       "(0.9259259259259259, 0.96)"
      ]
     },
     "execution_count": 20,
     "metadata": {},
     "output_type": "execute_result"
    }
   ],
   "source": [
    "# 3 tnr / tpr\n",
    "tn, fp, fn, tp = confusion_matrix(y_22, predicted).ravel()\n",
    "\n",
    "tnr = tn / (tn + fp)\n",
    "tpr = tp / (tp + fn)\n",
    "\n",
    "tnr, tpr"
   ]
  },
  {
   "cell_type": "code",
   "execution_count": 24,
   "id": "dee9983d",
   "metadata": {},
   "outputs": [
    {
     "data": {
      "text/plain": [
       "0.8846153846153846"
      ]
     },
     "execution_count": 24,
     "metadata": {},
     "output_type": "execute_result"
    }
   ],
   "source": [
    "# 4 Gaussian\n",
    "# 建立模型\n",
    "model_rbf_svm = svm.SVC(C=10, kernel='rbf')\n",
    "\n",
    "# 训练模型,x为训练集， y为标签\n",
    "model_rbf_svm.fit(X, Y)\n",
    "\n",
    "new_x = scaler.transform(df_22[[\"mean_return\", \"volatility\"]].values)\n",
    "predicted = model_rbf_svm.predict ( new_x )\n",
    "predicted\n",
    "\n",
    "accuracy_score(y_22, predicted)\n",
    "\n",
    "# 0.9423076923076923"
   ]
  },
  {
   "cell_type": "code",
   "execution_count": 25,
   "id": "fca36227",
   "metadata": {},
   "outputs": [],
   "source": [
    "# 4---  worse than linear\n"
   ]
  },
  {
   "cell_type": "code",
   "execution_count": 27,
   "id": "fc7956c7",
   "metadata": {},
   "outputs": [
    {
     "data": {
      "text/plain": [
       "0.4807692307692308"
      ]
     },
     "execution_count": 27,
     "metadata": {},
     "output_type": "execute_result"
    }
   ],
   "source": [
    "# 5 ---- poly\n",
    "# 建立模型\n",
    "model_poly_svm = svm.SVC(C=10, kernel='poly', degree=2)\n",
    "\n",
    "# 训练模型,x为训练集， y为标签\n",
    "model_poly_svm.fit(X, Y)\n",
    "\n",
    "new_x = scaler.transform(df_22[[\"mean_return\", \"volatility\"]].values)\n",
    "predicted = model_poly_svm.predict ( new_x )\n",
    "predicted\n",
    "\n",
    "accuracy_score(y_22, predicted)"
   ]
  },
  {
   "cell_type": "code",
   "execution_count": 28,
   "id": "1c755eb8",
   "metadata": {},
   "outputs": [],
   "source": [
    "# 5 worse than linear"
   ]
  },
  {
   "cell_type": "code",
   "execution_count": 32,
   "id": "08781937",
   "metadata": {},
   "outputs": [
    {
     "data": {
      "text/html": [
       "<div>\n",
       "<style scoped>\n",
       "    .dataframe tbody tr th:only-of-type {\n",
       "        vertical-align: middle;\n",
       "    }\n",
       "\n",
       "    .dataframe tbody tr th {\n",
       "        vertical-align: top;\n",
       "    }\n",
       "\n",
       "    .dataframe thead th {\n",
       "        text-align: right;\n",
       "    }\n",
       "</style>\n",
       "<table border=\"1\" class=\"dataframe\">\n",
       "  <thead>\n",
       "    <tr style=\"text-align: right;\">\n",
       "      <th></th>\n",
       "      <th>Close</th>\n",
       "      <th>Year</th>\n",
       "    </tr>\n",
       "    <tr>\n",
       "      <th>Week_Number</th>\n",
       "      <th></th>\n",
       "      <th></th>\n",
       "    </tr>\n",
       "  </thead>\n",
       "  <tbody>\n",
       "    <tr>\n",
       "      <th>1</th>\n",
       "      <td>26.290001</td>\n",
       "      <td>2022</td>\n",
       "    </tr>\n",
       "    <tr>\n",
       "      <th>2</th>\n",
       "      <td>26.420000</td>\n",
       "      <td>2022</td>\n",
       "    </tr>\n",
       "    <tr>\n",
       "      <th>3</th>\n",
       "      <td>26.580000</td>\n",
       "      <td>2022</td>\n",
       "    </tr>\n",
       "    <tr>\n",
       "      <th>4</th>\n",
       "      <td>26.090000</td>\n",
       "      <td>2022</td>\n",
       "    </tr>\n",
       "    <tr>\n",
       "      <th>5</th>\n",
       "      <td>25.930000</td>\n",
       "      <td>2022</td>\n",
       "    </tr>\n",
       "  </tbody>\n",
       "</table>\n",
       "</div>"
      ],
      "text/plain": [
       "                 Close  Year\n",
       "Week_Number                 \n",
       "1            26.290001  2022\n",
       "2            26.420000  2022\n",
       "3            26.580000  2022\n",
       "4            26.090000  2022\n",
       "5            25.930000  2022"
      ]
     },
     "execution_count": 32,
     "metadata": {},
     "output_type": "execute_result"
    }
   ],
   "source": [
    "# 6. \n",
    "# buy and_hold: week1   25,,,--> week52  27---> + 2\n",
    "# predict.....:\n",
    "# line_predict\n",
    "df_detail = pd.read_csv(\"ZIONO_weekly_return_detailed.csv\")\n",
    "df_detail.head(22)\n",
    "df_detail_22 = df_detail[[\"Close\", \"Week_Number\", \"Year\"]]\n",
    "df_detail_22 = df_detail_22[df_detail_22.Year == 2022]\n",
    "df_22_week = df_detail_22.groupby(\"Week_Number\").last()\n",
    "df_22_week.head()"
   ]
  },
  {
   "cell_type": "code",
   "execution_count": 34,
   "id": "e4104d87",
   "metadata": {},
   "outputs": [
    {
     "data": {
      "text/html": [
       "<div>\n",
       "<style scoped>\n",
       "    .dataframe tbody tr th:only-of-type {\n",
       "        vertical-align: middle;\n",
       "    }\n",
       "\n",
       "    .dataframe tbody tr th {\n",
       "        vertical-align: top;\n",
       "    }\n",
       "\n",
       "    .dataframe thead th {\n",
       "        text-align: right;\n",
       "    }\n",
       "</style>\n",
       "<table border=\"1\" class=\"dataframe\">\n",
       "  <thead>\n",
       "    <tr style=\"text-align: right;\">\n",
       "      <th></th>\n",
       "      <th>Close</th>\n",
       "      <th>Year</th>\n",
       "    </tr>\n",
       "    <tr>\n",
       "      <th>Week_Number</th>\n",
       "      <th></th>\n",
       "      <th></th>\n",
       "    </tr>\n",
       "  </thead>\n",
       "  <tbody>\n",
       "    <tr>\n",
       "      <th>48</th>\n",
       "      <td>25.180000</td>\n",
       "      <td>2022</td>\n",
       "    </tr>\n",
       "    <tr>\n",
       "      <th>49</th>\n",
       "      <td>25.129999</td>\n",
       "      <td>2022</td>\n",
       "    </tr>\n",
       "    <tr>\n",
       "      <th>50</th>\n",
       "      <td>25.299999</td>\n",
       "      <td>2022</td>\n",
       "    </tr>\n",
       "    <tr>\n",
       "      <th>51</th>\n",
       "      <td>25.120001</td>\n",
       "      <td>2022</td>\n",
       "    </tr>\n",
       "    <tr>\n",
       "      <th>52</th>\n",
       "      <td>25.370001</td>\n",
       "      <td>2022</td>\n",
       "    </tr>\n",
       "  </tbody>\n",
       "</table>\n",
       "</div>"
      ],
      "text/plain": [
       "                 Close  Year\n",
       "Week_Number                 \n",
       "48           25.180000  2022\n",
       "49           25.129999  2022\n",
       "50           25.299999  2022\n",
       "51           25.120001  2022\n",
       "52           25.370001  2022"
      ]
     },
     "execution_count": 34,
     "metadata": {},
     "output_type": "execute_result"
    }
   ],
   "source": [
    " df_22_week.tail()"
   ]
  },
  {
   "cell_type": "code",
   "execution_count": 36,
   "id": "bf5ac1b1",
   "metadata": {},
   "outputs": [
    {
     "data": {
      "text/plain": [
       "-0.9200000762939453"
      ]
     },
     "execution_count": 36,
     "metadata": {},
     "output_type": "execute_result"
    }
   ],
   "source": [
    "# low, ----  buy_and_hold\n",
    "buy_hold_add = df_22_week.Close.values[-1] - df_22_week.Close.values[0]\n",
    "buy_hold_add"
   ]
  },
  {
   "cell_type": "code",
   "execution_count": 41,
   "id": "2cc08f20",
   "metadata": {},
   "outputs": [
    {
     "data": {
      "text/plain": [
       "1.7599964141845703"
      ]
     },
     "execution_count": 41,
     "metadata": {},
     "output_type": "execute_result"
    }
   ],
   "source": [
    "# mine---\n",
    "line_predict, df_22_week.values\n",
    "\n",
    "\n",
    "# my strategy\n",
    "def get_benefit_my_strategy(pred_labels, close_prices):\n",
    "    money = 100\n",
    "    hold_share = False\n",
    "    for i in range(len(pred_labels)): # 1 red\n",
    "        if (pred_labels[i] == 1): # red---> if not owning, buy one\n",
    "            if hold_share:\n",
    "                pass\n",
    "            else:\n",
    "                hold_share = True\n",
    "                money -= close_prices[i]\n",
    "        else: # green ---->if owning, sell it\n",
    "            if hold_share:\n",
    "                hold_share = False\n",
    "                money += close_prices[i]\n",
    "    share_value = close_prices[-1] if hold_share else 0\n",
    "    return money + share_value - 100\n",
    "get_benefit_my_strategy( line_predict.tolist(), df_22_week.Close.values.tolist())"
   ]
  },
  {
   "cell_type": "code",
   "execution_count": null,
   "id": "1e509b2a",
   "metadata": {},
   "outputs": [],
   "source": [
    "# our stratedy win!!!!!"
   ]
  }
 ],
 "metadata": {
  "kernelspec": {
   "display_name": "Python 3 (ipykernel)",
   "language": "python",
   "name": "python3"
  },
  "language_info": {
   "codemirror_mode": {
    "name": "ipython",
    "version": 3
   },
   "file_extension": ".py",
   "mimetype": "text/x-python",
   "name": "python",
   "nbconvert_exporter": "python",
   "pygments_lexer": "ipython3",
   "version": "3.8.2"
  }
 },
 "nbformat": 4,
 "nbformat_minor": 5
}
