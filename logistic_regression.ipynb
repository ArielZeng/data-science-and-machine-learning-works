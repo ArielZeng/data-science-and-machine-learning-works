{
 "cells": [
  {
   "cell_type": "code",
   "execution_count": 8,
   "metadata": {},
   "outputs": [
    {
     "data": {
      "text/html": [
       "<div>\n",
       "<style scoped>\n",
       "    .dataframe tbody tr th:only-of-type {\n",
       "        vertical-align: middle;\n",
       "    }\n",
       "\n",
       "    .dataframe tbody tr th {\n",
       "        vertical-align: top;\n",
       "    }\n",
       "\n",
       "    .dataframe thead th {\n",
       "        text-align: right;\n",
       "    }\n",
       "</style>\n",
       "<table border=\"1\" class=\"dataframe\">\n",
       "  <thead>\n",
       "    <tr style=\"text-align: right;\">\n",
       "      <th></th>\n",
       "      <th>label_01</th>\n",
       "    </tr>\n",
       "  </thead>\n",
       "  <tbody>\n",
       "    <tr>\n",
       "      <th>2</th>\n",
       "      <td>1</td>\n",
       "    </tr>\n",
       "    <tr>\n",
       "      <th>3</th>\n",
       "      <td>0</td>\n",
       "    </tr>\n",
       "    <tr>\n",
       "      <th>4</th>\n",
       "      <td>1</td>\n",
       "    </tr>\n",
       "    <tr>\n",
       "      <th>5</th>\n",
       "      <td>0</td>\n",
       "    </tr>\n",
       "    <tr>\n",
       "      <th>6</th>\n",
       "      <td>1</td>\n",
       "    </tr>\n",
       "  </tbody>\n",
       "</table>\n",
       "</div>"
      ],
      "text/plain": [
       "   label_01\n",
       "2         1\n",
       "3         0\n",
       "4         1\n",
       "5         0\n",
       "6         1"
      ]
     },
     "execution_count": 8,
     "metadata": {},
     "output_type": "execute_result"
    }
   ],
   "source": [
    "#1\n",
    "import numpy as np\n",
    "from sklearn.model_selection import train_test_split\n",
    "from sklearn.neighbors import KNeighborsClassifier\n",
    "from sklearn.metrics import accuracy_score\n",
    "import pandas as pd\n",
    "\n",
    "df = pd.read_csv(\"ZIONO_weekly_return_volatility.csv\")\n",
    "df.label = df.label.fillna(method='ffill')\n",
    "df['label_01'] = df['label'].map(lambda x: 1 if x=='green' else 0)\n",
    "df_21 = df[df.Year==2021]\n",
    "df_22 = df[df.Year==2022]\n",
    "\n",
    "df_22.head(10)\n",
    "\n",
    "\n",
    "df_21.head() # mean\n",
    "df_21.iloc[:, 5:].head() # y"
   ]
  },
  {
   "cell_type": "code",
   "execution_count": 12,
   "metadata": {
    "id": "nm84NmOSCBTV"
   },
   "outputs": [
    {
     "data": {
      "text/plain": [
       "[array([[2.66525954]]), array([-0.37252542])]"
      ]
     },
     "execution_count": 12,
     "metadata": {},
     "output_type": "execute_result"
    }
   ],
   "source": [
    "# 1\n",
    "from sklearn.linear_model import LogisticRegression\n",
    "from sklearn.metrics import accuracy_score, confusion_matrix\n",
    "\n",
    "# train logistic regression classifier on year 1 data\n",
    "lr = LogisticRegression()\n",
    "lr.fit(df_21.iloc[:, 2:3], df_21.iloc[:, 5])\n",
    "\n",
    "\n",
    "k=lr.coef_#获取斜率w1,w2,w3,...,wn\n",
    "b=lr.intercept_#获取截距w0\n",
    "[k, b]"
   ]
  },
  {
   "cell_type": "code",
   "execution_count": 14,
   "metadata": {
    "id": "jGWJIC3hCY6Z"
   },
   "outputs": [
    {
     "name": "stdout",
     "output_type": "stream",
     "text": [
      "Accuracy for year 2: 0.6730769230769231\n"
     ]
    }
   ],
   "source": [
    "#1\n",
    "\n",
    "# Predict labels for year 2\n",
    "y2_pred = lr.predict( df_22.iloc[:, 2:3])\n",
    "# print(y2_pred)\n",
    "y2_true = df_22.iloc[:, 5]\n",
    "# Compute accuracy\n",
    "acc2 = accuracy_score(y2_true, y2_pred)\n",
    "print(f'Accuracy for year 2: {acc2}')"
   ]
  },
  {
   "cell_type": "code",
   "execution_count": 15,
   "metadata": {
    "id": "-laBCOGnE7C-"
   },
   "outputs": [
    {
     "name": "stdout",
     "output_type": "stream",
     "text": [
      "[[24  1]\n",
      " [16 11]]\n"
     ]
    }
   ],
   "source": [
    "#3\n",
    "from sklearn.metrics import confusion_matrix\n",
    "\n",
    "# Compute confusion matrix\n",
    "cm = confusion_matrix(y2_true, y2_pred)\n",
    "\n",
    "# Print confusion matrix\n",
    "print(cm)"
   ]
  },
  {
   "cell_type": "code",
   "execution_count": 18,
   "metadata": {
    "colab": {
     "base_uri": "https://localhost:8080/",
     "height": 134
    },
    "executionInfo": {
     "elapsed": 469,
     "status": "error",
     "timestamp": 1679182568425,
     "user": {
      "displayName": "xiaoying Zeng",
      "userId": "04093042537243846416"
     },
     "user_tz": 240
    },
    "id": "PaVIDkoyFDS_",
    "outputId": "213c105b-ceb2-405e-ed35-26391614891b",
    "scrolled": true
   },
   "outputs": [
    {
     "name": "stderr",
     "output_type": "stream",
     "text": [
      "<ipython-input-18-32f57fb2c9d3>:2: SettingWithCopyWarning: \n",
      "A value is trying to be set on a copy of a slice from a DataFrame.\n",
      "Try using .loc[row_indexer,col_indexer] = value instead\n",
      "\n",
      "See the caveats in the documentation: https://pandas.pydata.org/pandas-docs/stable/user_guide/indexing.html#returning-a-view-versus-a-copy\n",
      "  df_test['predict_label'] = y2_pred\n",
      "<ipython-input-18-32f57fb2c9d3>:16: SettingWithCopyWarning: \n",
      "A value is trying to be set on a copy of a slice from a DataFrame.\n",
      "Try using .loc[row_indexer,col_indexer] = value instead\n",
      "\n",
      "See the caveats in the documentation: https://pandas.pydata.org/pandas-docs/stable/user_guide/indexing.html#returning-a-view-versus-a-copy\n",
      "  df_test['TP'] = df_test[df_test.columns].apply(lambda x: TP(x), axis=1)\n",
      "<ipython-input-18-32f57fb2c9d3>:17: SettingWithCopyWarning: \n",
      "A value is trying to be set on a copy of a slice from a DataFrame.\n",
      "Try using .loc[row_indexer,col_indexer] = value instead\n",
      "\n",
      "See the caveats in the documentation: https://pandas.pydata.org/pandas-docs/stable/user_guide/indexing.html#returning-a-view-versus-a-copy\n",
      "  df_test['FP'] = df_test[df_test.columns].apply(lambda x: FP(x), axis=1)\n",
      "<ipython-input-18-32f57fb2c9d3>:18: SettingWithCopyWarning: \n",
      "A value is trying to be set on a copy of a slice from a DataFrame.\n",
      "Try using .loc[row_indexer,col_indexer] = value instead\n",
      "\n",
      "See the caveats in the documentation: https://pandas.pydata.org/pandas-docs/stable/user_guide/indexing.html#returning-a-view-versus-a-copy\n",
      "  df_test['TN'] = df_test[df_test.columns].apply(lambda x: TN(x), axis=1)\n",
      "<ipython-input-18-32f57fb2c9d3>:19: SettingWithCopyWarning: \n",
      "A value is trying to be set on a copy of a slice from a DataFrame.\n",
      "Try using .loc[row_indexer,col_indexer] = value instead\n",
      "\n",
      "See the caveats in the documentation: https://pandas.pydata.org/pandas-docs/stable/user_guide/indexing.html#returning-a-view-versus-a-copy\n",
      "  df_test['FN'] = df_test[df_test.columns].apply(lambda x: FN(x), axis=1)\n"
     ]
    },
    {
     "data": {
      "text/html": [
       "<div>\n",
       "<style scoped>\n",
       "    .dataframe tbody tr th:only-of-type {\n",
       "        vertical-align: middle;\n",
       "    }\n",
       "\n",
       "    .dataframe tbody tr th {\n",
       "        vertical-align: top;\n",
       "    }\n",
       "\n",
       "    .dataframe thead th {\n",
       "        text-align: right;\n",
       "    }\n",
       "</style>\n",
       "<table border=\"1\" class=\"dataframe\">\n",
       "  <thead>\n",
       "    <tr style=\"text-align: right;\">\n",
       "      <th></th>\n",
       "      <th>Year</th>\n",
       "      <th>Week_Number</th>\n",
       "      <th>mean_return</th>\n",
       "      <th>volatility</th>\n",
       "      <th>label</th>\n",
       "      <th>label_01</th>\n",
       "      <th>predict_label</th>\n",
       "      <th>TP</th>\n",
       "      <th>FP</th>\n",
       "      <th>TN</th>\n",
       "      <th>FN</th>\n",
       "    </tr>\n",
       "  </thead>\n",
       "  <tbody>\n",
       "    <tr>\n",
       "      <th>54</th>\n",
       "      <td>2022</td>\n",
       "      <td>1</td>\n",
       "      <td>-0.2012</td>\n",
       "      <td>0.842329</td>\n",
       "      <td>red</td>\n",
       "      <td>0</td>\n",
       "      <td>0</td>\n",
       "      <td>0</td>\n",
       "      <td>0</td>\n",
       "      <td>1</td>\n",
       "      <td>0</td>\n",
       "    </tr>\n",
       "    <tr>\n",
       "      <th>55</th>\n",
       "      <td>2022</td>\n",
       "      <td>2</td>\n",
       "      <td>0.1002</td>\n",
       "      <td>0.604448</td>\n",
       "      <td>green</td>\n",
       "      <td>1</td>\n",
       "      <td>0</td>\n",
       "      <td>0</td>\n",
       "      <td>0</td>\n",
       "      <td>0</td>\n",
       "      <td>1</td>\n",
       "    </tr>\n",
       "    <tr>\n",
       "      <th>56</th>\n",
       "      <td>2022</td>\n",
       "      <td>3</td>\n",
       "      <td>0.1525</td>\n",
       "      <td>0.591757</td>\n",
       "      <td>green</td>\n",
       "      <td>1</td>\n",
       "      <td>1</td>\n",
       "      <td>1</td>\n",
       "      <td>0</td>\n",
       "      <td>0</td>\n",
       "      <td>0</td>\n",
       "    </tr>\n",
       "    <tr>\n",
       "      <th>57</th>\n",
       "      <td>2022</td>\n",
       "      <td>4</td>\n",
       "      <td>-0.3576</td>\n",
       "      <td>1.847664</td>\n",
       "      <td>red</td>\n",
       "      <td>0</td>\n",
       "      <td>0</td>\n",
       "      <td>0</td>\n",
       "      <td>0</td>\n",
       "      <td>1</td>\n",
       "      <td>0</td>\n",
       "    </tr>\n",
       "    <tr>\n",
       "      <th>58</th>\n",
       "      <td>2022</td>\n",
       "      <td>5</td>\n",
       "      <td>-0.1206</td>\n",
       "      <td>0.762250</td>\n",
       "      <td>red</td>\n",
       "      <td>0</td>\n",
       "      <td>0</td>\n",
       "      <td>0</td>\n",
       "      <td>0</td>\n",
       "      <td>1</td>\n",
       "      <td>0</td>\n",
       "    </tr>\n",
       "  </tbody>\n",
       "</table>\n",
       "</div>"
      ],
      "text/plain": [
       "    Year  Week_Number  mean_return  volatility  label  label_01  \\\n",
       "54  2022            1      -0.2012    0.842329    red         0   \n",
       "55  2022            2       0.1002    0.604448  green         1   \n",
       "56  2022            3       0.1525    0.591757  green         1   \n",
       "57  2022            4      -0.3576    1.847664    red         0   \n",
       "58  2022            5      -0.1206    0.762250    red         0   \n",
       "\n",
       "    predict_label  TP  FP  TN  FN  \n",
       "54              0   0   0   1   0  \n",
       "55              0   0   0   0   1  \n",
       "56              1   1   0   0   0  \n",
       "57              0   0   0   1   0  \n",
       "58              0   0   0   1   0  "
      ]
     },
     "execution_count": 18,
     "metadata": {},
     "output_type": "execute_result"
    }
   ],
   "source": [
    "df_test = df_22\n",
    "df_test['predict_label'] = y2_pred\n",
    "\n",
    "#4\n",
    "# Compute true positives (TP), false positives (FP),\n",
    "# true negatives (TN), and false negatives (FN)\n",
    "def TP(x):\n",
    "  return 1 if x['predict_label']==1 and x['label_01']==1  else 0\n",
    "def FP(x):\n",
    "  return 1 if x['predict_label']==1 and x['label_01']==0  else 0\n",
    "def TN(x):\n",
    "  return 1 if x['predict_label']==0 and x['label_01']==0  else 0\n",
    "def FN(x):\n",
    "  return 1 if x['predict_label']==0 and x['label_01']==1  else 0\n",
    "\n",
    "df_test['TP'] = df_test[df_test.columns].apply(lambda x: TP(x), axis=1)\n",
    "df_test['FP'] = df_test[df_test.columns].apply(lambda x: FP(x), axis=1)\n",
    "df_test['TN'] = df_test[df_test.columns].apply(lambda x: TN(x), axis=1)\n",
    "df_test['FN'] = df_test[df_test.columns].apply(lambda x: FN(x), axis=1)\n",
    "df_test.head()\n"
   ]
  },
  {
   "cell_type": "code",
   "execution_count": 19,
   "metadata": {},
   "outputs": [
    {
     "data": {
      "text/plain": [
       "[0.4074074074074074, 0.96]"
      ]
     },
     "execution_count": 19,
     "metadata": {},
     "output_type": "execute_result"
    }
   ],
   "source": [
    "\n",
    "tp_count = df_test.TP.sum()#算tp次数\n",
    "fn_count = df_test.FN.sum()\n",
    "tn_count = df_test.TN.sum()\n",
    "fp_count = df_test.FP.sum()\n",
    "total_count = df_test.shape[0]\n",
    "\n",
    "tp_ratio = tp_count/(tp_count+fn_count)\n",
    "tn_ratio = tn_count/(tn_count + fp_count)\n",
    "\n",
    "[tp_ratio,  tn_ratio]"
   ]
  }
 ],
 "metadata": {
  "colab": {
   "authorship_tag": "ABX9TyPn43953bqQn4Pvlr200jzI",
   "provenance": []
  },
  "kernelspec": {
   "display_name": "Python 3",
   "language": "python",
   "name": "python3"
  },
  "language_info": {
   "codemirror_mode": {
    "name": "ipython",
    "version": 3
   },
   "file_extension": ".py",
   "mimetype": "text/x-python",
   "name": "python",
   "nbconvert_exporter": "python",
   "pygments_lexer": "ipython3",
   "version": "3.8.5"
  }
 },
 "nbformat": 4,
 "nbformat_minor": 1
}
