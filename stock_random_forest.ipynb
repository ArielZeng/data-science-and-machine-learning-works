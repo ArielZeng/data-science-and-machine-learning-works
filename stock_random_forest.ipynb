{
  "cells": [
    {
      "cell_type": "code",
      "execution_count": null,
      "id": "9bfa2516",
      "metadata": {
        "id": "9bfa2516",
        "outputId": "de2930ab-6e44-4dcd-ddbb-c4468a1ba4ee"
      },
      "outputs": [
        {
          "data": {
            "text/html": [
              "<div>\n",
              "<style scoped>\n",
              "    .dataframe tbody tr th:only-of-type {\n",
              "        vertical-align: middle;\n",
              "    }\n",
              "\n",
              "    .dataframe tbody tr th {\n",
              "        vertical-align: top;\n",
              "    }\n",
              "\n",
              "    .dataframe thead th {\n",
              "        text-align: right;\n",
              "    }\n",
              "</style>\n",
              "<table border=\"1\" class=\"dataframe\">\n",
              "  <thead>\n",
              "    <tr style=\"text-align: right;\">\n",
              "      <th></th>\n",
              "      <th>Year</th>\n",
              "      <th>Week_Number</th>\n",
              "      <th>mean_return</th>\n",
              "      <th>volatility</th>\n",
              "      <th>label</th>\n",
              "    </tr>\n",
              "  </thead>\n",
              "  <tbody>\n",
              "    <tr>\n",
              "      <th>54</th>\n",
              "      <td>2022</td>\n",
              "      <td>1</td>\n",
              "      <td>-0.2012</td>\n",
              "      <td>0.842329</td>\n",
              "      <td>red</td>\n",
              "    </tr>\n",
              "    <tr>\n",
              "      <th>55</th>\n",
              "      <td>2022</td>\n",
              "      <td>2</td>\n",
              "      <td>0.1002</td>\n",
              "      <td>0.604448</td>\n",
              "      <td>green</td>\n",
              "    </tr>\n",
              "    <tr>\n",
              "      <th>56</th>\n",
              "      <td>2022</td>\n",
              "      <td>3</td>\n",
              "      <td>0.1525</td>\n",
              "      <td>0.591757</td>\n",
              "      <td>green</td>\n",
              "    </tr>\n",
              "    <tr>\n",
              "      <th>57</th>\n",
              "      <td>2022</td>\n",
              "      <td>4</td>\n",
              "      <td>-0.3576</td>\n",
              "      <td>1.847664</td>\n",
              "      <td>red</td>\n",
              "    </tr>\n",
              "    <tr>\n",
              "      <th>58</th>\n",
              "      <td>2022</td>\n",
              "      <td>5</td>\n",
              "      <td>-0.1206</td>\n",
              "      <td>0.762250</td>\n",
              "      <td>red</td>\n",
              "    </tr>\n",
              "  </tbody>\n",
              "</table>\n",
              "</div>"
            ],
            "text/plain": [
              "    Year  Week_Number  mean_return  volatility  label\n",
              "54  2022            1      -0.2012    0.842329    red\n",
              "55  2022            2       0.1002    0.604448  green\n",
              "56  2022            3       0.1525    0.591757  green\n",
              "57  2022            4      -0.3576    1.847664    red\n",
              "58  2022            5      -0.1206    0.762250    red"
            ]
          },
          "execution_count": 27,
          "metadata": {},
          "output_type": "execute_result"
        }
      ],
      "source": [
        "#1\n",
        "import numpy as np\n",
        "from sklearn.model_selection import train_test_split\n",
        "# from sklearn.neighbors import KNeighborsClassifier\n",
        "from sklearn.metrics import accuracy_score\n",
        "import pandas as pd\n",
        "\n",
        "df = pd.read_csv(\"ZIONO_weekly_return_volatility.csv\")\n",
        "df.label = df.label.fillna(method='ffill')\n",
        "df_21 = df[df.Year==2021]\n",
        "df_22 = df[df.Year==2022]\n",
        "\n",
        "df_22.head(10)\n",
        "\n",
        "\n",
        "df_22.head() # mean\n"
      ]
    },
    {
      "cell_type": "code",
      "execution_count": null,
      "id": "5fe35a9c",
      "metadata": {
        "id": "5fe35a9c",
        "outputId": "c51eb198-1ee4-4e3c-bdbe-4c3782b1243d"
      },
      "outputs": [
        {
          "data": {
            "text/html": [
              "<div>\n",
              "<style scoped>\n",
              "    .dataframe tbody tr th:only-of-type {\n",
              "        vertical-align: middle;\n",
              "    }\n",
              "\n",
              "    .dataframe tbody tr th {\n",
              "        vertical-align: top;\n",
              "    }\n",
              "\n",
              "    .dataframe thead th {\n",
              "        text-align: right;\n",
              "    }\n",
              "</style>\n",
              "<table border=\"1\" class=\"dataframe\">\n",
              "  <thead>\n",
              "    <tr style=\"text-align: right;\">\n",
              "      <th></th>\n",
              "      <th>mean_return</th>\n",
              "      <th>volatility</th>\n",
              "      <th>y</th>\n",
              "    </tr>\n",
              "  </thead>\n",
              "  <tbody>\n",
              "    <tr>\n",
              "      <th>0</th>\n",
              "      <td>-0.2586</td>\n",
              "      <td>0.729467</td>\n",
              "      <td>0</td>\n",
              "    </tr>\n",
              "    <tr>\n",
              "      <th>1</th>\n",
              "      <td>0.0776</td>\n",
              "      <td>0.787634</td>\n",
              "      <td>1</td>\n",
              "    </tr>\n",
              "    <tr>\n",
              "      <th>2</th>\n",
              "      <td>0.9710</td>\n",
              "      <td>2.437100</td>\n",
              "      <td>0</td>\n",
              "    </tr>\n",
              "    <tr>\n",
              "      <th>3</th>\n",
              "      <td>-0.5042</td>\n",
              "      <td>1.114784</td>\n",
              "      <td>1</td>\n",
              "    </tr>\n",
              "    <tr>\n",
              "      <th>4</th>\n",
              "      <td>0.1458</td>\n",
              "      <td>1.217830</td>\n",
              "      <td>0</td>\n",
              "    </tr>\n",
              "  </tbody>\n",
              "</table>\n",
              "</div>"
            ],
            "text/plain": [
              "   mean_return  volatility  y\n",
              "0      -0.2586    0.729467  0\n",
              "1       0.0776    0.787634  1\n",
              "2       0.9710    2.437100  0\n",
              "3      -0.5042    1.114784  1\n",
              "4       0.1458    1.217830  0"
            ]
          },
          "execution_count": 30,
          "metadata": {},
          "output_type": "execute_result"
        }
      ],
      "source": [
        "# 1 , construct df_train\n",
        "from sklearn import tree\n",
        "from sklearn.preprocessing import LabelEncoder\n",
        "from sklearn.metrics import accuracy_score\n",
        "from sklearn.metrics import confusion_matrix\n",
        "from scipy import stats\n",
        "\n",
        "x_21 = df_21[[\"mean_return\"]].values\n",
        "le = LabelEncoder()\n",
        "y_21 = le.fit_transform(df_21[\"label\"].values)\n",
        "y_22 = le.transform(df_22[\"label\"].values)\n",
        "\n",
        "\n",
        "df_train = pd.DataFrame({'mean_return': df_21[\"mean_return\"].values, 'volatility':df_21['volatility'].values, 'y': y_21})\n",
        "df_train.head()"
      ]
    },
    {
      "cell_type": "code",
      "execution_count": null,
      "id": "c2891d9e",
      "metadata": {
        "id": "c2891d9e",
        "outputId": "2f3c4491-909d-4566-97c7-d19c69bd2d28"
      },
      "outputs": [
        {
          "data": {
            "image/png": "[encoded data removed]",
            "text/plain": [
              "<Figure size 640x480 with 1 Axes>"
            ]
          },
          "metadata": {},
          "output_type": "display_data"
        },
        {
          "data": {
            "text/html": [
              "<div>\n",
              "<style scoped>\n",
              "    .dataframe tbody tr th:only-of-type {\n",
              "        vertical-align: middle;\n",
              "    }\n",
              "\n",
              "    .dataframe tbody tr th {\n",
              "        vertical-align: top;\n",
              "    }\n",
              "\n",
              "    .dataframe thead th {\n",
              "        text-align: right;\n",
              "    }\n",
              "</style>\n",
              "<table border=\"1\" class=\"dataframe\">\n",
              "  <thead>\n",
              "    <tr style=\"text-align: right;\">\n",
              "      <th></th>\n",
              "      <th>depth_1</th>\n",
              "      <th>depth_2</th>\n",
              "      <th>depth_3</th>\n",
              "      <th>depth_4</th>\n",
              "      <th>depth_5</th>\n",
              "    </tr>\n",
              "  </thead>\n",
              "  <tbody>\n",
              "    <tr>\n",
              "      <th>count</th>\n",
              "      <td>10.000000</td>\n",
              "      <td>10.000000</td>\n",
              "      <td>10.000000</td>\n",
              "      <td>10.000000</td>\n",
              "      <td>10.000000</td>\n",
              "    </tr>\n",
              "    <tr>\n",
              "      <th>mean</th>\n",
              "      <td>0.792308</td>\n",
              "      <td>0.844231</td>\n",
              "      <td>0.863462</td>\n",
              "      <td>0.890385</td>\n",
              "      <td>0.859615</td>\n",
              "    </tr>\n",
              "    <tr>\n",
              "      <th>std</th>\n",
              "      <td>0.155916</td>\n",
              "      <td>0.078744</td>\n",
              "      <td>0.037869</td>\n",
              "      <td>0.045373</td>\n",
              "      <td>0.082116</td>\n",
              "    </tr>\n",
              "    <tr>\n",
              "      <th>min</th>\n",
              "      <td>0.480769</td>\n",
              "      <td>0.673077</td>\n",
              "      <td>0.807692</td>\n",
              "      <td>0.788462</td>\n",
              "      <td>0.653846</td>\n",
              "    </tr>\n",
              "    <tr>\n",
              "      <th>25%</th>\n",
              "      <td>0.687500</td>\n",
              "      <td>0.802885</td>\n",
              "      <td>0.831731</td>\n",
              "      <td>0.870192</td>\n",
              "      <td>0.846154</td>\n",
              "    </tr>\n",
              "    <tr>\n",
              "      <th>50%</th>\n",
              "      <td>0.865385</td>\n",
              "      <td>0.875000</td>\n",
              "      <td>0.865385</td>\n",
              "      <td>0.894231</td>\n",
              "      <td>0.865385</td>\n",
              "    </tr>\n",
              "    <tr>\n",
              "      <th>75%</th>\n",
              "      <td>0.894231</td>\n",
              "      <td>0.884615</td>\n",
              "      <td>0.894231</td>\n",
              "      <td>0.918269</td>\n",
              "      <td>0.918269</td>\n",
              "    </tr>\n",
              "    <tr>\n",
              "      <th>max</th>\n",
              "      <td>0.923077</td>\n",
              "      <td>0.923077</td>\n",
              "      <td>0.923077</td>\n",
              "      <td>0.942308</td>\n",
              "      <td>0.942308</td>\n",
              "    </tr>\n",
              "  </tbody>\n",
              "</table>\n",
              "</div>"
            ],
            "text/plain": [
              "         depth_1    depth_2    depth_3    depth_4    depth_5\n",
              "count  10.000000  10.000000  10.000000  10.000000  10.000000\n",
              "mean    0.792308   0.844231   0.863462   0.890385   0.859615\n",
              "std     0.155916   0.078744   0.037869   0.045373   0.082116\n",
              "min     0.480769   0.673077   0.807692   0.788462   0.653846\n",
              "25%     0.687500   0.802885   0.831731   0.870192   0.846154\n",
              "50%     0.865385   0.875000   0.865385   0.894231   0.865385\n",
              "75%     0.894231   0.884615   0.894231   0.918269   0.918269\n",
              "max     0.923077   0.923077   0.923077   0.942308   0.942308"
            ]
          },
          "execution_count": 44,
          "metadata": {},
          "output_type": "execute_result"
        }
      ],
      "source": [
        "from sklearn . ensemble import RandomForestClassifier\n",
        "import matplotlib.pyplot as plt\n",
        "\n",
        "X = df_train[[\"mean_return\", \"volatility\"]].values\n",
        "Y = df_train.y.values\n",
        "\n",
        "df = pd.DataFrame()\n",
        "for d in range(1, 6):\n",
        "    dic = {}\n",
        "    for N in range(1, 11):\n",
        "        clf = RandomForestClassifier ( n_estimators =N , max_depth =d ,criterion ='entropy')\n",
        "        clf = clf .fit(X,Y)\n",
        "\n",
        "        new_x = df_22[[\"mean_return\", \"volatility\"]].values\n",
        "        predicted = clf.predict(new_x)\n",
        "\n",
        "        # 1 accuracy\n",
        "        dic[N] = np.mean(predicted == y_22)\n",
        "    df[f\"depth_{d}\"] = pd.Series(dic)\n",
        "    \n",
        "df.plot()\n",
        "plt.show()\n",
        "df.describe()\n",
        "\n",
        "# 1 we can see the best depth=5, N = 4"
      ]
    },
    {
      "cell_type": "code",
      "execution_count": null,
      "id": "2bd91743",
      "metadata": {
        "id": "2bd91743",
        "outputId": "98fd5426-d2c0-45c4-8e35-0f02ecaae9f2"
      },
      "outputs": [
        {
          "data": {
            "text/plain": [
              "array([[26,  1],\n",
              "       [ 2, 23]], dtype=int64)"
            ]
          },
          "execution_count": 138,
          "metadata": {},
          "output_type": "execute_result"
        }
      ],
      "source": [
        "# 2\n",
        "# test N = 4 depth=5\n",
        "N = 4\n",
        "d = 5\n",
        "clf = RandomForestClassifier ( n_estimators =N , max_depth =d ,criterion ='entropy')\n",
        "clf = clf .fit(X,Y)\n",
        "\n",
        "new_x = df_22[[\"mean_return\", \"volatility\"]].values\n",
        "predicted = clf.predict(new_x)\n",
        "\n",
        "# 1 accuracy\n",
        "confusion_matrix(y_22, predicted)"
      ]
    },
    {
      "cell_type": "code",
      "execution_count": null,
      "id": "869a0615",
      "metadata": {
        "id": "869a0615",
        "outputId": "e4b25b89-adf2-4a91-d7ff-b4ce1de59450"
      },
      "outputs": [
        {
          "data": {
            "text/plain": [
              "(0.92, 0.9629629629629629)"
            ]
          },
          "execution_count": 139,
          "metadata": {},
          "output_type": "execute_result"
        }
      ],
      "source": [
        "# 3. rate\n",
        "tn, fp, fn, tp = confusion_matrix(y_22, predicted).ravel()\n",
        "tpr = tp / (tp + fn)\n",
        "tnr = tn / (tn + fp)\n",
        "tpr, tnr"
      ]
    },
    {
      "cell_type": "code",
      "execution_count": null,
      "id": "f2b812ef",
      "metadata": {
        "id": "f2b812ef",
        "outputId": "9ca46f4b-42a0-4059-c62b-209524c1afc5"
      },
      "outputs": [
        {
          "data": {
            "text/html": [
              "<div>\n",
              "<style scoped>\n",
              "    .dataframe tbody tr th:only-of-type {\n",
              "        vertical-align: middle;\n",
              "    }\n",
              "\n",
              "    .dataframe tbody tr th {\n",
              "        vertical-align: top;\n",
              "    }\n",
              "\n",
              "    .dataframe thead th {\n",
              "        text-align: right;\n",
              "    }\n",
              "</style>\n",
              "<table border=\"1\" class=\"dataframe\">\n",
              "  <thead>\n",
              "    <tr style=\"text-align: right;\">\n",
              "      <th></th>\n",
              "      <th>Close</th>\n",
              "      <th>Year</th>\n",
              "    </tr>\n",
              "    <tr>\n",
              "      <th>Week_Number</th>\n",
              "      <th></th>\n",
              "      <th></th>\n",
              "    </tr>\n",
              "  </thead>\n",
              "  <tbody>\n",
              "    <tr>\n",
              "      <th>1</th>\n",
              "      <td>26.290001</td>\n",
              "      <td>2022</td>\n",
              "    </tr>\n",
              "    <tr>\n",
              "      <th>2</th>\n",
              "      <td>26.420000</td>\n",
              "      <td>2022</td>\n",
              "    </tr>\n",
              "    <tr>\n",
              "      <th>3</th>\n",
              "      <td>26.580000</td>\n",
              "      <td>2022</td>\n",
              "    </tr>\n",
              "    <tr>\n",
              "      <th>4</th>\n",
              "      <td>26.090000</td>\n",
              "      <td>2022</td>\n",
              "    </tr>\n",
              "    <tr>\n",
              "      <th>5</th>\n",
              "      <td>25.930000</td>\n",
              "      <td>2022</td>\n",
              "    </tr>\n",
              "  </tbody>\n",
              "</table>\n",
              "</div>"
            ],
            "text/plain": [
              "                 Close  Year\n",
              "Week_Number                 \n",
              "1            26.290001  2022\n",
              "2            26.420000  2022\n",
              "3            26.580000  2022\n",
              "4            26.090000  2022\n",
              "5            25.930000  2022"
            ]
          },
          "execution_count": 140,
          "metadata": {},
          "output_type": "execute_result"
        }
      ],
      "source": [
        "# 4 compare\n",
        "# df\n",
        "df_detail = pd.read_csv(\"ZIONO_weekly_return_detailed.csv\")\n",
        "df_detail.head(22)\n",
        "\n",
        "\n",
        "df_detail_22 = df_detail[[\"Close\", \"Week_Number\", \"Year\"]]\n",
        "df_detail_22 = df_detail_22[df_detail_22.Year == 2022]\n",
        "df_22_week = df_detail_22.groupby(\"Week_Number\").last()\n",
        "df_22_week.head()"
      ]
    },
    {
      "cell_type": "code",
      "execution_count": null,
      "id": "d026d521",
      "metadata": {
        "id": "d026d521",
        "outputId": "35024034-5ede-485f-a6d5-4a07280eb0ee"
      },
      "outputs": [
        {
          "data": {
            "text/plain": [
              "-0.9200000762939453"
            ]
          },
          "execution_count": 141,
          "metadata": {},
          "output_type": "execute_result"
        }
      ],
      "source": [
        "# buy_and_hold\n",
        "buy_hold_add = df_22_week.Close.values[-1] - df_22_week.Close.values[0]\n",
        "buy_hold_add"
      ]
    },
    {
      "cell_type": "code",
      "execution_count": null,
      "id": "7fab0b3d",
      "metadata": {
        "id": "7fab0b3d",
        "outputId": "dadf474f-aeff-48cf-de2e-b8beb68b1161"
      },
      "outputs": [
        {
          "data": {
            "text/plain": [
              "1.7399978637695312"
            ]
          },
          "execution_count": 142,
          "metadata": {},
          "output_type": "execute_result"
        }
      ],
      "source": [
        "def get_benefit_my_strategy(pred_labels, close_prices):\n",
        "    money = 100\n",
        "    hold_share = False\n",
        "    for i in range(len(pred_labels)): # 1 red\n",
        "#         print(pred_labels[i], close_prices[i])\n",
        "        \n",
        "        if (pred_labels[i] == 1): # red---> if not owning, buy one\n",
        "            if hold_share:\n",
        "                pass\n",
        "            else:\n",
        "                hold_share = True\n",
        "                money -= close_prices[i]\n",
        "        else:           # green ---->if owning, sell it\n",
        "            if hold_share:\n",
        "                hold_share = False\n",
        "                money += close_prices[i]\n",
        "                \n",
        "        \n",
        "    share_value = close_prices[-1] if hold_share else 0\n",
        "    return money + share_value - 100\n",
        "                    \n",
        "\n",
        "get_benefit_my_strategy( predicted.tolist(), df_22_week.Close.values.tolist())"
      ]
    },
    {
      "cell_type": "code",
      "execution_count": null,
      "id": "427fce09",
      "metadata": {
        "id": "427fce09"
      },
      "outputs": [],
      "source": [
        "# we can see it is much better than buy-and-hold"
      ]
    }
  ],
  "metadata": {
    "kernelspec": {
      "display_name": "Python 3 (ipykernel)",
      "language": "python",
      "name": "python3"
    },
    "language_info": {
      "codemirror_mode": {
        "name": "ipython",
        "version": 3
      },
      "file_extension": ".py",
      "mimetype": "text/x-python",
      "name": "python",
      "nbconvert_exporter": "python",
      "pygments_lexer": "ipython3",
      "version": "3.8.16"
    },
    "colab": {
      "provenance": []
    }
  },
  "nbformat": 4,
  "nbformat_minor": 5
}