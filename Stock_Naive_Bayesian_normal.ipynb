{
 "cells": [
  {
   "cell_type": "code",
   "execution_count": 11,
   "metadata": {},
   "outputs": [
    {
     "data": {
      "text/html": [
       "<div>\n",
       "<style scoped>\n",
       "    .dataframe tbody tr th:only-of-type {\n",
       "        vertical-align: middle;\n",
       "    }\n",
       "\n",
       "    .dataframe tbody tr th {\n",
       "        vertical-align: top;\n",
       "    }\n",
       "\n",
       "    .dataframe thead th {\n",
       "        text-align: right;\n",
       "    }\n",
       "</style>\n",
       "<table border=\"1\" class=\"dataframe\">\n",
       "  <thead>\n",
       "    <tr style=\"text-align: right;\">\n",
       "      <th></th>\n",
       "      <th>Year</th>\n",
       "      <th>Week_Number</th>\n",
       "      <th>mean_return</th>\n",
       "      <th>volatility</th>\n",
       "      <th>label</th>\n",
       "    </tr>\n",
       "  </thead>\n",
       "  <tbody>\n",
       "    <tr>\n",
       "      <th>54</th>\n",
       "      <td>2022</td>\n",
       "      <td>1</td>\n",
       "      <td>-0.2012</td>\n",
       "      <td>0.842329</td>\n",
       "      <td>red</td>\n",
       "    </tr>\n",
       "    <tr>\n",
       "      <th>55</th>\n",
       "      <td>2022</td>\n",
       "      <td>2</td>\n",
       "      <td>0.1002</td>\n",
       "      <td>0.604448</td>\n",
       "      <td>green</td>\n",
       "    </tr>\n",
       "    <tr>\n",
       "      <th>56</th>\n",
       "      <td>2022</td>\n",
       "      <td>3</td>\n",
       "      <td>0.1525</td>\n",
       "      <td>0.591757</td>\n",
       "      <td>green</td>\n",
       "    </tr>\n",
       "    <tr>\n",
       "      <th>57</th>\n",
       "      <td>2022</td>\n",
       "      <td>4</td>\n",
       "      <td>-0.3576</td>\n",
       "      <td>1.847664</td>\n",
       "      <td>red</td>\n",
       "    </tr>\n",
       "    <tr>\n",
       "      <th>58</th>\n",
       "      <td>2022</td>\n",
       "      <td>5</td>\n",
       "      <td>-0.1206</td>\n",
       "      <td>0.762250</td>\n",
       "      <td>red</td>\n",
       "    </tr>\n",
       "  </tbody>\n",
       "</table>\n",
       "</div>"
      ],
      "text/plain": [
       "    Year  Week_Number  mean_return  volatility  label\n",
       "54  2022            1      -0.2012    0.842329    red\n",
       "55  2022            2       0.1002    0.604448  green\n",
       "56  2022            3       0.1525    0.591757  green\n",
       "57  2022            4      -0.3576    1.847664    red\n",
       "58  2022            5      -0.1206    0.762250    red"
      ]
     },
     "execution_count": 11,
     "metadata": {},
     "output_type": "execute_result"
    }
   ],
   "source": [
    "#1\n",
    "import numpy as np\n",
    "from sklearn.model_selection import train_test_split\n",
    "# from sklearn.neighbors import KNeighborsClassifier\n",
    "from sklearn.metrics import accuracy_score\n",
    "import pandas as pd\n",
    "\n",
    "df = pd.read_csv(\"ZIONO_weekly_return_volatility.csv\")\n",
    "df.label = df.label.fillna(method='ffill')\n",
    "df_21 = df[df.Year==2021]\n",
    "df_22 = df[df.Year==2022]\n",
    "\n",
    "df_22.head(10)\n",
    "\n",
    "\n",
    "df_22.head() # mean\n"
   ]
  },
  {
   "cell_type": "code",
   "execution_count": 12,
   "metadata": {},
   "outputs": [
    {
     "data": {
      "text/html": [
       "<div>\n",
       "<style scoped>\n",
       "    .dataframe tbody tr th:only-of-type {\n",
       "        vertical-align: middle;\n",
       "    }\n",
       "\n",
       "    .dataframe tbody tr th {\n",
       "        vertical-align: top;\n",
       "    }\n",
       "\n",
       "    .dataframe thead th {\n",
       "        text-align: right;\n",
       "    }\n",
       "</style>\n",
       "<table border=\"1\" class=\"dataframe\">\n",
       "  <thead>\n",
       "    <tr style=\"text-align: right;\">\n",
       "      <th></th>\n",
       "      <th>x</th>\n",
       "      <th>y</th>\n",
       "    </tr>\n",
       "  </thead>\n",
       "  <tbody>\n",
       "    <tr>\n",
       "      <th>0</th>\n",
       "      <td>-0.2586</td>\n",
       "      <td>0</td>\n",
       "    </tr>\n",
       "    <tr>\n",
       "      <th>1</th>\n",
       "      <td>0.0776</td>\n",
       "      <td>1</td>\n",
       "    </tr>\n",
       "    <tr>\n",
       "      <th>2</th>\n",
       "      <td>0.9710</td>\n",
       "      <td>0</td>\n",
       "    </tr>\n",
       "    <tr>\n",
       "      <th>3</th>\n",
       "      <td>-0.5042</td>\n",
       "      <td>1</td>\n",
       "    </tr>\n",
       "    <tr>\n",
       "      <th>4</th>\n",
       "      <td>0.1458</td>\n",
       "      <td>0</td>\n",
       "    </tr>\n",
       "  </tbody>\n",
       "</table>\n",
       "</div>"
      ],
      "text/plain": [
       "        x  y\n",
       "0 -0.2586  0\n",
       "1  0.0776  1\n",
       "2  0.9710  0\n",
       "3 -0.5042  1\n",
       "4  0.1458  0"
      ]
     },
     "execution_count": 12,
     "metadata": {},
     "output_type": "execute_result"
    }
   ],
   "source": [
    "# 1 , construct df_train\n",
    "from sklearn.naive_bayes import GaussianNB\n",
    "from sklearn.preprocessing import LabelEncoder\n",
    "from sklearn.metrics import accuracy_score\n",
    "from sklearn.metrics import confusion_matrix\n",
    "from scipy import stats\n",
    "\n",
    "x_21 = df_21[[\"mean_return\"]].values\n",
    "le = LabelEncoder()\n",
    "y_21 = le.fit_transform(df_21[\"label\"].values)\n",
    "y_22 = le.transform(df_22[\"label\"].values)\n",
    "\n",
    "\n",
    "df_train = pd.DataFrame({'x': df_21[\"mean_return\"].values, 'y': y_21})\n",
    "df_train.head()\n",
    "\n"
   ]
  },
  {
   "cell_type": "code",
   "execution_count": 13,
   "metadata": {},
   "outputs": [
    {
     "name": "stdout",
     "output_type": "stream",
     "text": [
      "(30, 2)\n"
     ]
    },
    {
     "data": {
      "text/plain": [
       "(-0.19924333333333333, 0.23997625303973, 0.5769230769230769)"
      ]
     },
     "execution_count": 13,
     "metadata": {},
     "output_type": "execute_result"
    }
   ],
   "source": [
    "from scipy.stats import norm\n",
    "# assume data is in array x\n",
    "df_train_red = df_train[df_train.y == 1]\n",
    "print(df_train_red.shape)\n",
    "df_train_red.mean(),df_train_red.std()\n",
    "red_mu = df_train_red.mean()[0]\n",
    "red_sigma = df_train_red.std()[0]\n",
    "red_prop = 30 / 52\n",
    "\n",
    "\n",
    "# from the below result we can see: \n",
    "# for red:\n",
    "# count = 30\n",
    "# u = mean = -0.199\n",
    "# sigma = std = 0.239976\n",
    "red_mu, red_sigma, red_prop\n"
   ]
  },
  {
   "cell_type": "code",
   "execution_count": 14,
   "metadata": {},
   "outputs": [
    {
     "name": "stdout",
     "output_type": "stream",
     "text": [
      "(22, 2)\n"
     ]
    },
    {
     "data": {
      "text/plain": [
       "(0.3204181818181818, 0.39919129545615767, 0.4230769230769231)"
      ]
     },
     "execution_count": 14,
     "metadata": {},
     "output_type": "execute_result"
    }
   ],
   "source": [
    "# assume data is in array x\n",
    "df_train_green = df_train[df_train.y == 0]\n",
    "print(df_train_green.shape)\n",
    "df_train_green.mean(),df_train_green.std()\n",
    "\n",
    "# from the below result we can see: \n",
    "# for red:\n",
    "# count = 22\n",
    "# u = mean = 0.32\n",
    "# sigma = std = 0.399191\n",
    "green_mu = df_train_green.mean()[0]\n",
    "green_sigma = df_train_green.std()[0]\n",
    "green_prop = 22 / 52\n",
    "\n",
    "def get_red_or_green(z):\n",
    "#     print(z)\n",
    "    red_prob = norm.pdf((z - red_mu) / red_sigma)\n",
    "    green_prob = norm.pdf((z - green_mu) / green_sigma)\n",
    "    p_red = red_prop * 30 / 52\n",
    "    p_green = green_prop * 22 / 52\n",
    "    normalized_red = p_red / (p_red + p_green)\n",
    "    normalized_green = p_green / (p_red + p_green)\n",
    "    return 1 if normalized_red > normalized_green else 0\n",
    "\n",
    "green_mu, green_sigma, green_prop"
   ]
  },
  {
   "cell_type": "code",
   "execution_count": 15,
   "metadata": {},
   "outputs": [
    {
     "name": "stdout",
     "output_type": "stream",
     "text": [
      "0.75\n"
     ]
    },
    {
     "name": "stderr",
     "output_type": "stream",
     "text": [
      "d:\\ProgramData\\Anaconda3\\envs\\sklearn\\lib\\site-packages\\ipykernel_launcher.py:6: SettingWithCopyWarning: \n",
      "A value is trying to be set on a copy of a slice from a DataFrame.\n",
      "Try using .loc[row_indexer,col_indexer] = value instead\n",
      "\n",
      "See the caveats in the documentation: https://pandas.pydata.org/pandas-docs/stable/user_guide/indexing.html#returning-a-view-versus-a-copy\n",
      "  \n"
     ]
    },
    {
     "data": {
      "text/html": [
       "<div>\n",
       "<style scoped>\n",
       "    .dataframe tbody tr th:only-of-type {\n",
       "        vertical-align: middle;\n",
       "    }\n",
       "\n",
       "    .dataframe tbody tr th {\n",
       "        vertical-align: top;\n",
       "    }\n",
       "\n",
       "    .dataframe thead th {\n",
       "        text-align: right;\n",
       "    }\n",
       "</style>\n",
       "<table border=\"1\" class=\"dataframe\">\n",
       "  <thead>\n",
       "    <tr style=\"text-align: right;\">\n",
       "      <th></th>\n",
       "      <th>pred</th>\n",
       "      <th>ground_label</th>\n",
       "    </tr>\n",
       "  </thead>\n",
       "  <tbody>\n",
       "    <tr>\n",
       "      <th>54</th>\n",
       "      <td>1</td>\n",
       "      <td>1</td>\n",
       "    </tr>\n",
       "    <tr>\n",
       "      <th>55</th>\n",
       "      <td>1</td>\n",
       "      <td>0</td>\n",
       "    </tr>\n",
       "    <tr>\n",
       "      <th>56</th>\n",
       "      <td>0</td>\n",
       "      <td>0</td>\n",
       "    </tr>\n",
       "    <tr>\n",
       "      <th>57</th>\n",
       "      <td>1</td>\n",
       "      <td>1</td>\n",
       "    </tr>\n",
       "    <tr>\n",
       "      <th>58</th>\n",
       "      <td>1</td>\n",
       "      <td>1</td>\n",
       "    </tr>\n",
       "  </tbody>\n",
       "</table>\n",
       "</div>"
      ],
      "text/plain": [
       "    pred  ground_label\n",
       "54     1             1\n",
       "55     1             0\n",
       "56     0             0\n",
       "57     1             1\n",
       "58     1             1"
      ]
     },
     "execution_count": 15,
     "metadata": {},
     "output_type": "execute_result"
    }
   ],
   "source": [
    "# use 21 mean, sigma to compute 2022\n",
    "\n",
    "\n",
    "# df_22['predict'] = df_22.mean_return.apply(get_red_or_green)\n",
    "NB_classifier = GaussianNB ().fit( df_21[[\"mean_return\"]].values , y_21 )\n",
    "df_22['predict'] = NB_classifier.predict(df_22[[\"mean_return\"]].values)\n",
    "y_22 = le.transform(df_22[\"label\"].values)\n",
    "ret_df = pd.DataFrame({\"pred\": df_22['predict'], \"ground_label\": y_22})\n",
    "acc = accuracy_score(y_22, df_22['predict'])\n",
    "print(acc)\n",
    "ret_df.head()\n"
   ]
  },
  {
   "cell_type": "code",
   "execution_count": 16,
   "metadata": {
    "scrolled": true
   },
   "outputs": [
    {
     "data": {
      "text/plain": [
       "array([[15, 12],\n",
       "       [ 1, 24]], dtype=int64)"
      ]
     },
     "execution_count": 16,
     "metadata": {},
     "output_type": "execute_result"
    }
   ],
   "source": [
    "# 2\n",
    "confusion_matrix(y_22, df_22['predict'])"
   ]
  },
  {
   "cell_type": "code",
   "execution_count": 17,
   "metadata": {},
   "outputs": [
    {
     "data": {
      "text/plain": [
       "(15, 24)"
      ]
     },
     "execution_count": 17,
     "metadata": {},
     "output_type": "execute_result"
    }
   ],
   "source": [
    "#3 true negative, true positive, \n",
    "confusion_matrix(y_22,  df_22['predict'])[0][0], confusion_matrix(y_22,  df_22['predict'])[1][1]"
   ]
  },
  {
   "cell_type": "code",
   "execution_count": 18,
   "metadata": {},
   "outputs": [
    {
     "data": {
      "text/plain": [
       "(0.5555555555555556, 0.96)"
      ]
     },
     "execution_count": 18,
     "metadata": {},
     "output_type": "execute_result"
    }
   ],
   "source": [
    "tn, fp, fn, tp = confusion_matrix(y_22,  df_22['predict']).ravel()\n",
    "tn, fp, fn, tp\n",
    "tnr = tn / (tn + fp)\n",
    "tpr = tp / (tp + fn)\n",
    "tnr, tpr"
   ]
  },
  {
   "cell_type": "code",
   "execution_count": 19,
   "metadata": {},
   "outputs": [
    {
     "data": {
      "text/html": [
       "<div>\n",
       "<style scoped>\n",
       "    .dataframe tbody tr th:only-of-type {\n",
       "        vertical-align: middle;\n",
       "    }\n",
       "\n",
       "    .dataframe tbody tr th {\n",
       "        vertical-align: top;\n",
       "    }\n",
       "\n",
       "    .dataframe thead th {\n",
       "        text-align: right;\n",
       "    }\n",
       "</style>\n",
       "<table border=\"1\" class=\"dataframe\">\n",
       "  <thead>\n",
       "    <tr style=\"text-align: right;\">\n",
       "      <th></th>\n",
       "      <th>Close</th>\n",
       "      <th>Year</th>\n",
       "    </tr>\n",
       "    <tr>\n",
       "      <th>Week_Number</th>\n",
       "      <th></th>\n",
       "      <th></th>\n",
       "    </tr>\n",
       "  </thead>\n",
       "  <tbody>\n",
       "    <tr>\n",
       "      <th>1</th>\n",
       "      <td>26.290001</td>\n",
       "      <td>2022</td>\n",
       "    </tr>\n",
       "    <tr>\n",
       "      <th>2</th>\n",
       "      <td>26.420000</td>\n",
       "      <td>2022</td>\n",
       "    </tr>\n",
       "    <tr>\n",
       "      <th>3</th>\n",
       "      <td>26.580000</td>\n",
       "      <td>2022</td>\n",
       "    </tr>\n",
       "    <tr>\n",
       "      <th>4</th>\n",
       "      <td>26.090000</td>\n",
       "      <td>2022</td>\n",
       "    </tr>\n",
       "    <tr>\n",
       "      <th>5</th>\n",
       "      <td>25.930000</td>\n",
       "      <td>2022</td>\n",
       "    </tr>\n",
       "  </tbody>\n",
       "</table>\n",
       "</div>"
      ],
      "text/plain": [
       "                 Close  Year\n",
       "Week_Number                 \n",
       "1            26.290001  2022\n",
       "2            26.420000  2022\n",
       "3            26.580000  2022\n",
       "4            26.090000  2022\n",
       "5            25.930000  2022"
      ]
     },
     "execution_count": 19,
     "metadata": {},
     "output_type": "execute_result"
    }
   ],
   "source": [
    "# 4\n",
    "# df\n",
    "df_detail = pd.read_csv(\"ZIONO_weekly_return_detailed.csv\")\n",
    "df_detail.head(22)\n",
    "\n",
    "\n",
    "df_detail_22 = df_detail[[\"Close\", \"Week_Number\", \"Year\"]]\n",
    "df_detail_22 = df_detail_22[df_detail_22.Year == 2022]\n",
    "df_22_week = df_detail_22.groupby(\"Week_Number\").last()\n",
    "df_22_week.head()\n",
    "\n"
   ]
  },
  {
   "cell_type": "code",
   "execution_count": 20,
   "metadata": {},
   "outputs": [
    {
     "data": {
      "text/html": [
       "<div>\n",
       "<style scoped>\n",
       "    .dataframe tbody tr th:only-of-type {\n",
       "        vertical-align: middle;\n",
       "    }\n",
       "\n",
       "    .dataframe tbody tr th {\n",
       "        vertical-align: top;\n",
       "    }\n",
       "\n",
       "    .dataframe thead th {\n",
       "        text-align: right;\n",
       "    }\n",
       "</style>\n",
       "<table border=\"1\" class=\"dataframe\">\n",
       "  <thead>\n",
       "    <tr style=\"text-align: right;\">\n",
       "      <th></th>\n",
       "      <th>Close</th>\n",
       "      <th>Year</th>\n",
       "    </tr>\n",
       "    <tr>\n",
       "      <th>Week_Number</th>\n",
       "      <th></th>\n",
       "      <th></th>\n",
       "    </tr>\n",
       "  </thead>\n",
       "  <tbody>\n",
       "    <tr>\n",
       "      <th>48</th>\n",
       "      <td>25.180000</td>\n",
       "      <td>2022</td>\n",
       "    </tr>\n",
       "    <tr>\n",
       "      <th>49</th>\n",
       "      <td>25.129999</td>\n",
       "      <td>2022</td>\n",
       "    </tr>\n",
       "    <tr>\n",
       "      <th>50</th>\n",
       "      <td>25.299999</td>\n",
       "      <td>2022</td>\n",
       "    </tr>\n",
       "    <tr>\n",
       "      <th>51</th>\n",
       "      <td>25.120001</td>\n",
       "      <td>2022</td>\n",
       "    </tr>\n",
       "    <tr>\n",
       "      <th>52</th>\n",
       "      <td>25.370001</td>\n",
       "      <td>2022</td>\n",
       "    </tr>\n",
       "  </tbody>\n",
       "</table>\n",
       "</div>"
      ],
      "text/plain": [
       "                 Close  Year\n",
       "Week_Number                 \n",
       "48           25.180000  2022\n",
       "49           25.129999  2022\n",
       "50           25.299999  2022\n",
       "51           25.120001  2022\n",
       "52           25.370001  2022"
      ]
     },
     "execution_count": 20,
     "metadata": {},
     "output_type": "execute_result"
    }
   ],
   "source": [
    "df_22_week.tail()"
   ]
  },
  {
   "cell_type": "code",
   "execution_count": 21,
   "metadata": {},
   "outputs": [
    {
     "data": {
      "text/plain": [
       "-0.9200000762939453"
      ]
     },
     "execution_count": 21,
     "metadata": {},
     "output_type": "execute_result"
    }
   ],
   "source": [
    "# buy_and_hold\n",
    "buy_hold_add = df_22_week.Close.values[-1] - df_22_week.Close.values[0]\n",
    "buy_hold_add"
   ]
  },
  {
   "cell_type": "code",
   "execution_count": 22,
   "metadata": {},
   "outputs": [
    {
     "data": {
      "text/plain": [
       "1.519998550415039"
      ]
     },
     "execution_count": 22,
     "metadata": {},
     "output_type": "execute_result"
    }
   ],
   "source": [
    "# my strategy\n",
    "def get_benefit_my_strategy(pred_labels, close_prices):\n",
    "    money = 100\n",
    "    hold_share = False\n",
    "    for i in range(len(pred_labels)): # 1 red\n",
    "#         print(pred_labels[i], close_prices[i])\n",
    "        \n",
    "        if (pred_labels[i] == 1): # red---> if not owning, buy one\n",
    "            if hold_share:\n",
    "                pass\n",
    "            else:\n",
    "                hold_share = True\n",
    "                money -= close_prices[i]\n",
    "        else:           # green ---->if owning, sell it\n",
    "            if hold_share:\n",
    "                hold_share = False\n",
    "                money += close_prices[i]\n",
    "                \n",
    "        \n",
    "    share_value = close_prices[-1] if hold_share else 0\n",
    "    return money + share_value - 100\n",
    "                    \n",
    "\n",
    "get_benefit_my_strategy( df_22['predict'].values.tolist(), df_22_week.Close.values.tolist())"
   ]
  },
  {
   "cell_type": "code",
   "execution_count": 46,
   "metadata": {},
   "outputs": [],
   "source": [
    "# my strategy > buy_and_hold. it is better"
   ]
  }
 ],
 "metadata": {
  "kernelspec": {
   "display_name": "Python 3",
   "language": "python",
   "name": "python3"
  },
  "language_info": {
   "codemirror_mode": {
    "name": "ipython",
    "version": 3
   },
   "file_extension": ".py",
   "mimetype": "text/x-python",
   "name": "python",
   "nbconvert_exporter": "python",
   "pygments_lexer": "ipython3",
   "version": "3.6.5"
  }
 },
 "nbformat": 4,
 "nbformat_minor": 4
}
