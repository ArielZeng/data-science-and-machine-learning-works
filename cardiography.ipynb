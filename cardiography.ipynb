{
 "cells": [
  {
   "cell_type": "code",
   "execution_count": 112,
   "id": "889c3a3c",
   "metadata": {
    "scrolled": true
   },
   "outputs": [
    {
     "data": {
      "text/plain": [
       "(2130, 40)"
      ]
     },
     "execution_count": 112,
     "metadata": {},
     "output_type": "execute_result"
    }
   ],
   "source": [
    " #1\n",
    "import numpy as np\n",
    "from sklearn.model_selection import train_test_split\n",
    "# from sklearn.neighbors import KNeighborsClassifier\n",
    "from sklearn.metrics import accuracy_score\n",
    "import pandas as pd\n",
    "df = pd.read_excel(\"cardiotocography_data_set.xls\", sheet_name='Raw Data')\n",
    "\n",
    "df.head()\n",
    "\n",
    "df.shape"
   ]
  },
  {
   "cell_type": "code",
   "execution_count": 113,
   "id": "81a4d5ae",
   "metadata": {},
   "outputs": [
    {
     "data": {
      "text/plain": [
       "Index(['FileName', 'Date', 'SegFile', 'b', 'e', 'LBE', 'LB', 'AC', 'FM', 'UC',\n",
       "       'ASTV', 'MSTV', 'ALTV', 'MLTV', 'DL', 'DS', 'DP', 'DR', 'Width', 'Min',\n",
       "       'Max', 'Nmax', 'Nzeros', 'Mode', 'Mean', 'Median', 'Variance',\n",
       "       'Tendency', 'A', 'B', 'C', 'D', 'E', 'AD', 'DE', 'LD', 'FS', 'SUSP',\n",
       "       'CLASS', 'NSP'],\n",
       "      dtype='object')"
      ]
     },
     "execution_count": 113,
     "metadata": {},
     "output_type": "execute_result"
    }
   ],
   "source": [
    "df.dropna(axis=0, how=\"any\", inplace=True)\n",
    "df.shape\n",
    "\n",
    "\n",
    "df.head()\n",
    "\n",
    "df.columns"
   ]
  },
  {
   "cell_type": "code",
   "execution_count": 114,
   "id": "bd8430a8",
   "metadata": {},
   "outputs": [
    {
     "data": {
      "text/html": [
       "<div>\n",
       "<style scoped>\n",
       "    .dataframe tbody tr th:only-of-type {\n",
       "        vertical-align: middle;\n",
       "    }\n",
       "\n",
       "    .dataframe tbody tr th {\n",
       "        vertical-align: top;\n",
       "    }\n",
       "\n",
       "    .dataframe thead th {\n",
       "        text-align: right;\n",
       "    }\n",
       "</style>\n",
       "<table border=\"1\" class=\"dataframe\">\n",
       "  <thead>\n",
       "    <tr style=\"text-align: right;\">\n",
       "      <th></th>\n",
       "      <th>NSP</th>\n",
       "      <th>LB</th>\n",
       "      <th>ASTV</th>\n",
       "      <th>MSTV</th>\n",
       "      <th>ALTV</th>\n",
       "      <th>MLTV</th>\n",
       "      <th>Width</th>\n",
       "      <th>Min</th>\n",
       "      <th>Max</th>\n",
       "      <th>Mode</th>\n",
       "      <th>Mean</th>\n",
       "      <th>Median</th>\n",
       "      <th>Variance</th>\n",
       "    </tr>\n",
       "  </thead>\n",
       "  <tbody>\n",
       "    <tr>\n",
       "      <th>1</th>\n",
       "      <td>2.0</td>\n",
       "      <td>120.0</td>\n",
       "      <td>73.0</td>\n",
       "      <td>0.5</td>\n",
       "      <td>43.0</td>\n",
       "      <td>2.4</td>\n",
       "      <td>64.0</td>\n",
       "      <td>62.0</td>\n",
       "      <td>126.0</td>\n",
       "      <td>120.0</td>\n",
       "      <td>137.0</td>\n",
       "      <td>121.0</td>\n",
       "      <td>73.0</td>\n",
       "    </tr>\n",
       "    <tr>\n",
       "      <th>2</th>\n",
       "      <td>1.0</td>\n",
       "      <td>132.0</td>\n",
       "      <td>17.0</td>\n",
       "      <td>2.1</td>\n",
       "      <td>0.0</td>\n",
       "      <td>10.4</td>\n",
       "      <td>130.0</td>\n",
       "      <td>68.0</td>\n",
       "      <td>198.0</td>\n",
       "      <td>141.0</td>\n",
       "      <td>136.0</td>\n",
       "      <td>140.0</td>\n",
       "      <td>12.0</td>\n",
       "    </tr>\n",
       "    <tr>\n",
       "      <th>3</th>\n",
       "      <td>1.0</td>\n",
       "      <td>133.0</td>\n",
       "      <td>16.0</td>\n",
       "      <td>2.1</td>\n",
       "      <td>0.0</td>\n",
       "      <td>13.4</td>\n",
       "      <td>130.0</td>\n",
       "      <td>68.0</td>\n",
       "      <td>198.0</td>\n",
       "      <td>141.0</td>\n",
       "      <td>135.0</td>\n",
       "      <td>138.0</td>\n",
       "      <td>13.0</td>\n",
       "    </tr>\n",
       "    <tr>\n",
       "      <th>4</th>\n",
       "      <td>1.0</td>\n",
       "      <td>134.0</td>\n",
       "      <td>16.0</td>\n",
       "      <td>2.4</td>\n",
       "      <td>0.0</td>\n",
       "      <td>23.0</td>\n",
       "      <td>117.0</td>\n",
       "      <td>53.0</td>\n",
       "      <td>170.0</td>\n",
       "      <td>137.0</td>\n",
       "      <td>134.0</td>\n",
       "      <td>137.0</td>\n",
       "      <td>13.0</td>\n",
       "    </tr>\n",
       "    <tr>\n",
       "      <th>5</th>\n",
       "      <td>1.0</td>\n",
       "      <td>132.0</td>\n",
       "      <td>16.0</td>\n",
       "      <td>2.4</td>\n",
       "      <td>0.0</td>\n",
       "      <td>19.9</td>\n",
       "      <td>117.0</td>\n",
       "      <td>53.0</td>\n",
       "      <td>170.0</td>\n",
       "      <td>137.0</td>\n",
       "      <td>136.0</td>\n",
       "      <td>138.0</td>\n",
       "      <td>11.0</td>\n",
       "    </tr>\n",
       "  </tbody>\n",
       "</table>\n",
       "</div>"
      ],
      "text/plain": [
       "   NSP     LB  ASTV  MSTV  ALTV  MLTV  Width   Min    Max   Mode   Mean   \n",
       "1  2.0  120.0  73.0   0.5  43.0   2.4   64.0  62.0  126.0  120.0  137.0  \\\n",
       "2  1.0  132.0  17.0   2.1   0.0  10.4  130.0  68.0  198.0  141.0  136.0   \n",
       "3  1.0  133.0  16.0   2.1   0.0  13.4  130.0  68.0  198.0  141.0  135.0   \n",
       "4  1.0  134.0  16.0   2.4   0.0  23.0  117.0  53.0  170.0  137.0  134.0   \n",
       "5  1.0  132.0  16.0   2.4   0.0  19.9  117.0  53.0  170.0  137.0  136.0   \n",
       "\n",
       "   Median  Variance  \n",
       "1   121.0      73.0  \n",
       "2   140.0      12.0  \n",
       "3   138.0      13.0  \n",
       "4   137.0      13.0  \n",
       "5   138.0      11.0  "
      ]
     },
     "execution_count": 114,
     "metadata": {},
     "output_type": "execute_result"
    }
   ],
   "source": [
    "cols = ['NSP', \"LB\", \"ASTV\", \"MSTV\", \"ALTV\", 'MLTV', 'Width', 'Min', 'Max', 'Mode', 'Mean', 'Median', 'Variance',  ]\n",
    "df = df[cols]\n",
    "\n",
    "df.head()"
   ]
  },
  {
   "cell_type": "code",
   "execution_count": 115,
   "id": "8429d1f7",
   "metadata": {},
   "outputs": [
    {
     "data": {
      "text/html": [
       "<div>\n",
       "<style scoped>\n",
       "    .dataframe tbody tr th:only-of-type {\n",
       "        vertical-align: middle;\n",
       "    }\n",
       "\n",
       "    .dataframe tbody tr th {\n",
       "        vertical-align: top;\n",
       "    }\n",
       "\n",
       "    .dataframe thead th {\n",
       "        text-align: right;\n",
       "    }\n",
       "</style>\n",
       "<table border=\"1\" class=\"dataframe\">\n",
       "  <thead>\n",
       "    <tr style=\"text-align: right;\">\n",
       "      <th></th>\n",
       "      <th>NSP</th>\n",
       "      <th>LB</th>\n",
       "      <th>ALTV</th>\n",
       "      <th>Min</th>\n",
       "      <th>Mean</th>\n",
       "    </tr>\n",
       "  </thead>\n",
       "  <tbody>\n",
       "    <tr>\n",
       "      <th>1</th>\n",
       "      <td>2.0</td>\n",
       "      <td>120.0</td>\n",
       "      <td>43.0</td>\n",
       "      <td>62.0</td>\n",
       "      <td>137.0</td>\n",
       "    </tr>\n",
       "    <tr>\n",
       "      <th>2</th>\n",
       "      <td>1.0</td>\n",
       "      <td>132.0</td>\n",
       "      <td>0.0</td>\n",
       "      <td>68.0</td>\n",
       "      <td>136.0</td>\n",
       "    </tr>\n",
       "    <tr>\n",
       "      <th>3</th>\n",
       "      <td>1.0</td>\n",
       "      <td>133.0</td>\n",
       "      <td>0.0</td>\n",
       "      <td>68.0</td>\n",
       "      <td>135.0</td>\n",
       "    </tr>\n",
       "    <tr>\n",
       "      <th>4</th>\n",
       "      <td>1.0</td>\n",
       "      <td>134.0</td>\n",
       "      <td>0.0</td>\n",
       "      <td>53.0</td>\n",
       "      <td>134.0</td>\n",
       "    </tr>\n",
       "    <tr>\n",
       "      <th>5</th>\n",
       "      <td>1.0</td>\n",
       "      <td>132.0</td>\n",
       "      <td>0.0</td>\n",
       "      <td>53.0</td>\n",
       "      <td>136.0</td>\n",
       "    </tr>\n",
       "  </tbody>\n",
       "</table>\n",
       "</div>"
      ],
      "text/plain": [
       "   NSP     LB  ALTV   Min   Mean\n",
       "1  2.0  120.0  43.0  62.0  137.0\n",
       "2  1.0  132.0   0.0  68.0  136.0\n",
       "3  1.0  133.0   0.0  68.0  135.0\n",
       "4  1.0  134.0   0.0  53.0  134.0\n",
       "5  1.0  132.0   0.0  53.0  136.0"
      ]
     },
     "execution_count": 115,
     "metadata": {},
     "output_type": "execute_result"
    }
   ],
   "source": [
    "my_feature_set = [ 'LB', 'ALTV', 'Min', 'Mean'] # 你是哪个组的，这里可能需要修改\n",
    "\n",
    "df = df[['NSP'] + my_feature_set]\n",
    "\n",
    "df.head()"
   ]
  },
  {
   "cell_type": "code",
   "execution_count": 116,
   "id": "fc655728",
   "metadata": {},
   "outputs": [
    {
     "data": {
      "text/html": [
       "<div>\n",
       "<style scoped>\n",
       "    .dataframe tbody tr th:only-of-type {\n",
       "        vertical-align: middle;\n",
       "    }\n",
       "\n",
       "    .dataframe tbody tr th {\n",
       "        vertical-align: top;\n",
       "    }\n",
       "\n",
       "    .dataframe thead th {\n",
       "        text-align: right;\n",
       "    }\n",
       "</style>\n",
       "<table border=\"1\" class=\"dataframe\">\n",
       "  <thead>\n",
       "    <tr style=\"text-align: right;\">\n",
       "      <th></th>\n",
       "      <th>NSP</th>\n",
       "      <th>LB</th>\n",
       "      <th>ALTV</th>\n",
       "      <th>Min</th>\n",
       "      <th>Mean</th>\n",
       "      <th>label</th>\n",
       "    </tr>\n",
       "  </thead>\n",
       "  <tbody>\n",
       "    <tr>\n",
       "      <th>1</th>\n",
       "      <td>2.0</td>\n",
       "      <td>120.0</td>\n",
       "      <td>43.0</td>\n",
       "      <td>62.0</td>\n",
       "      <td>137.0</td>\n",
       "      <td>0</td>\n",
       "    </tr>\n",
       "    <tr>\n",
       "      <th>2</th>\n",
       "      <td>1.0</td>\n",
       "      <td>132.0</td>\n",
       "      <td>0.0</td>\n",
       "      <td>68.0</td>\n",
       "      <td>136.0</td>\n",
       "      <td>1</td>\n",
       "    </tr>\n",
       "    <tr>\n",
       "      <th>3</th>\n",
       "      <td>1.0</td>\n",
       "      <td>133.0</td>\n",
       "      <td>0.0</td>\n",
       "      <td>68.0</td>\n",
       "      <td>135.0</td>\n",
       "      <td>1</td>\n",
       "    </tr>\n",
       "    <tr>\n",
       "      <th>4</th>\n",
       "      <td>1.0</td>\n",
       "      <td>134.0</td>\n",
       "      <td>0.0</td>\n",
       "      <td>53.0</td>\n",
       "      <td>134.0</td>\n",
       "      <td>1</td>\n",
       "    </tr>\n",
       "    <tr>\n",
       "      <th>5</th>\n",
       "      <td>1.0</td>\n",
       "      <td>132.0</td>\n",
       "      <td>0.0</td>\n",
       "      <td>53.0</td>\n",
       "      <td>136.0</td>\n",
       "      <td>1</td>\n",
       "    </tr>\n",
       "  </tbody>\n",
       "</table>\n",
       "</div>"
      ],
      "text/plain": [
       "   NSP     LB  ALTV   Min   Mean  label\n",
       "1  2.0  120.0  43.0  62.0  137.0      0\n",
       "2  1.0  132.0   0.0  68.0  136.0      1\n",
       "3  1.0  133.0   0.0  68.0  135.0      1\n",
       "4  1.0  134.0   0.0  53.0  134.0      1\n",
       "5  1.0  132.0   0.0  53.0  136.0      1"
      ]
     },
     "execution_count": 116,
     "metadata": {},
     "output_type": "execute_result"
    }
   ],
   "source": [
    "# 2. change label\n",
    "# Normal=1; Suspect=2; Pathologic=3\n",
    "\n",
    "df['label'] = df.NSP.apply(lambda x: 1 if 0.99 < x < 1.01 else 0)\n",
    "\n",
    "df.head()"
   ]
  },
  {
   "cell_type": "code",
   "execution_count": 117,
   "id": "9a908593",
   "metadata": {},
   "outputs": [
    {
     "data": {
      "text/plain": [
       "array([1, 1, 1, ..., 1, 0, 1], dtype=int64)"
      ]
     },
     "execution_count": 117,
     "metadata": {},
     "output_type": "execute_result"
    }
   ],
   "source": [
    "# Q2 1. split\n",
    "from sklearn.naive_bayes import GaussianNB\n",
    "from sklearn.preprocessing import LabelEncoder\n",
    "from sklearn.metrics import accuracy_score\n",
    "from sklearn.metrics import confusion_matrix\n",
    "from scipy import stats\n",
    "from sklearn.model_selection import train_test_split\n",
    "\n",
    "random_state = 10\n",
    "X_train, X_test, y_train, y_test = train_test_split(df.iloc[:, 1:5], df.iloc[:, 5], random_state=random_state, test_size=0.5)\n",
    "X_train.head()\n",
    "\n",
    "NB_classifier = GaussianNB ()\n",
    "NB_classifier.fit(X_train, y_train)\n",
    "predi = NB_classifier.predict(X_test)\n",
    "predi"
   ]
  },
  {
   "cell_type": "code",
   "execution_count": 118,
   "id": "39ed6180",
   "metadata": {},
   "outputs": [
    {
     "data": {
      "text/plain": [
       "0.8400752587017873"
      ]
     },
     "execution_count": 118,
     "metadata": {},
     "output_type": "execute_result"
    }
   ],
   "source": [
    "# 2, acc\n",
    "\n",
    "\n",
    "accuracy_score(y_test, predi)"
   ]
  },
  {
   "cell_type": "code",
   "execution_count": 119,
   "id": "73e16805",
   "metadata": {},
   "outputs": [
    {
     "data": {
      "text/plain": [
       "array([[125, 107],\n",
       "       [ 63, 768]], dtype=int64)"
      ]
     },
     "execution_count": 119,
     "metadata": {},
     "output_type": "execute_result"
    }
   ],
   "source": [
    "# 3. confusion\n",
    "confusion_matrix(y_test, predi)"
   ]
  },
  {
   "cell_type": "code",
   "execution_count": 120,
   "id": "3d648ff1",
   "metadata": {},
   "outputs": [
    {
     "data": {
      "text/plain": [
       "(0.5387931034482759, 0.924187725631769)"
      ]
     },
     "execution_count": 120,
     "metadata": {},
     "output_type": "execute_result"
    }
   ],
   "source": [
    "tn,fp,fn,tp=confusion_matrix(y_test, predi).ravel()\n",
    "tn,fp,fn,tp\n",
    "tnr=tn/(tn+fp)\n",
    "tpr=tp/(tp+fn)\n",
    "tnr,tpr"
   ]
  },
  {
   "cell_type": "code",
   "execution_count": 121,
   "id": "03dd8893",
   "metadata": {},
   "outputs": [
    {
     "data": {
      "text/plain": [
       "array([1, 1, 1, ..., 1, 0, 1], dtype=int64)"
      ]
     },
     "execution_count": 121,
     "metadata": {},
     "output_type": "execute_result"
    }
   ],
   "source": [
    "# Q3 1, split is the same with Q2, reuse train and test dataset\n",
    "from sklearn.linear_model import LogisticRegression\n",
    "\n",
    "logit = LogisticRegression()\n",
    "logit.fit(X_train, y_train)\n",
    "predi = logit.predict(X_test)\n",
    "predi"
   ]
  },
  {
   "cell_type": "code",
   "execution_count": 122,
   "id": "acfe9d3d",
   "metadata": {},
   "outputs": [
    {
     "data": {
      "text/plain": [
       "0.863593603010348"
      ]
     },
     "execution_count": 122,
     "metadata": {},
     "output_type": "execute_result"
    }
   ],
   "source": [
    "# 2, acc\n",
    "\n",
    "\n",
    "accuracy_score(y_test, predi)"
   ]
  },
  {
   "cell_type": "code",
   "execution_count": 123,
   "id": "0680dd2a",
   "metadata": {},
   "outputs": [
    {
     "data": {
      "text/plain": [
       "array([[131, 101],\n",
       "       [ 44, 787]], dtype=int64)"
      ]
     },
     "execution_count": 123,
     "metadata": {},
     "output_type": "execute_result"
    }
   ],
   "source": [
    "# 3. confusion\n",
    "confusion_matrix(y_test, predi)"
   ]
  },
  {
   "cell_type": "code",
   "execution_count": 124,
   "id": "1aed1faa",
   "metadata": {},
   "outputs": [
    {
     "data": {
      "text/plain": [
       "(0.5646551724137931, 0.9470517448856799)"
      ]
     },
     "execution_count": 124,
     "metadata": {},
     "output_type": "execute_result"
    }
   ],
   "source": [
    "tn,fp,fn,tp=confusion_matrix(y_test, predi).ravel()\n",
    "tn,fp,fn,tp\n",
    "tnr=tn/(tn+fp)\n",
    "tpr=tp/(tp+fn)\n",
    "tnr,tpr"
   ]
  },
  {
   "cell_type": "code",
   "execution_count": 130,
   "id": "6db8b8c0",
   "metadata": {},
   "outputs": [
    {
     "data": {
      "text/plain": [
       "array([1, 0, 0, ..., 1, 1, 1], dtype=int64)"
      ]
     },
     "execution_count": 130,
     "metadata": {},
     "output_type": "execute_result"
    }
   ],
   "source": [
    "# Q4 1\n",
    "from sklearn import tree\n",
    "\n",
    "dt = tree.DecisionTreeClassifier(random_state=43)\n",
    "dt.fit(X_train, y_train)\n",
    "predi = dt.predict(X_test)\n",
    "predi"
   ]
  },
  {
   "cell_type": "code",
   "execution_count": 131,
   "id": "b9a2af53",
   "metadata": {},
   "outputs": [
    {
     "data": {
      "text/plain": [
       "0.8795860771401693"
      ]
     },
     "execution_count": 131,
     "metadata": {},
     "output_type": "execute_result"
    }
   ],
   "source": [
    "# 2, acc\n",
    "\n",
    "\n",
    "accuracy_score(y_test, predi)"
   ]
  },
  {
   "cell_type": "code",
   "execution_count": 134,
   "id": "35c663b3",
   "metadata": {},
   "outputs": [
    {
     "data": {
      "text/plain": [
       "array([[175,  57],\n",
       "       [ 71, 760]], dtype=int64)"
      ]
     },
     "execution_count": 134,
     "metadata": {},
     "output_type": "execute_result"
    }
   ],
   "source": [
    "# 3. confusion\n",
    "confusion_matrix(y_test, predi)"
   ]
  },
  {
   "cell_type": "code",
   "execution_count": 135,
   "id": "6499433c",
   "metadata": {},
   "outputs": [
    {
     "data": {
      "text/plain": [
       "(0.7543103448275862, 0.914560770156438)"
      ]
     },
     "execution_count": 135,
     "metadata": {},
     "output_type": "execute_result"
    }
   ],
   "source": [
    "tn,fp,fn,tp=confusion_matrix(y_test, predi).ravel()\n",
    "tn,fp,fn,tp\n",
    "tnr=tn/(tn+fp)\n",
    "tpr=tp/(tp+fn)\n",
    "tnr,tpr"
   ]
  },
  {
   "cell_type": "code",
   "execution_count": 76,
   "id": "bdc60fa8",
   "metadata": {},
   "outputs": [
    {
     "data": {
      "text/html": [
       "<div>\n",
       "<style scoped>\n",
       "    .dataframe tbody tr th:only-of-type {\n",
       "        vertical-align: middle;\n",
       "    }\n",
       "\n",
       "    .dataframe tbody tr th {\n",
       "        vertical-align: top;\n",
       "    }\n",
       "\n",
       "    .dataframe thead th {\n",
       "        text-align: right;\n",
       "    }\n",
       "</style>\n",
       "<table border=\"1\" class=\"dataframe\">\n",
       "  <thead>\n",
       "    <tr style=\"text-align: right;\">\n",
       "      <th></th>\n",
       "      <th>depth_1</th>\n",
       "      <th>depth_2</th>\n",
       "      <th>depth_3</th>\n",
       "      <th>depth_4</th>\n",
       "      <th>depth_5</th>\n",
       "    </tr>\n",
       "  </thead>\n",
       "  <tbody>\n",
       "    <tr>\n",
       "      <th>1</th>\n",
       "      <td>0.180621</td>\n",
       "      <td>0.151458</td>\n",
       "      <td>0.138288</td>\n",
       "      <td>0.124177</td>\n",
       "      <td>0.111947</td>\n",
       "    </tr>\n",
       "    <tr>\n",
       "      <th>2</th>\n",
       "      <td>0.175917</td>\n",
       "      <td>0.184384</td>\n",
       "      <td>0.134525</td>\n",
       "      <td>0.126999</td>\n",
       "      <td>0.115710</td>\n",
       "    </tr>\n",
       "    <tr>\n",
       "      <th>3</th>\n",
       "      <td>0.183443</td>\n",
       "      <td>0.143932</td>\n",
       "      <td>0.133584</td>\n",
       "      <td>0.120414</td>\n",
       "      <td>0.114770</td>\n",
       "    </tr>\n",
       "    <tr>\n",
       "      <th>4</th>\n",
       "      <td>0.180621</td>\n",
       "      <td>0.169332</td>\n",
       "      <td>0.123236</td>\n",
       "      <td>0.116651</td>\n",
       "      <td>0.116651</td>\n",
       "    </tr>\n",
       "    <tr>\n",
       "      <th>5</th>\n",
       "      <td>0.180621</td>\n",
       "      <td>0.127940</td>\n",
       "      <td>0.127940</td>\n",
       "      <td>0.118532</td>\n",
       "      <td>0.114770</td>\n",
       "    </tr>\n",
       "    <tr>\n",
       "      <th>6</th>\n",
       "      <td>0.168391</td>\n",
       "      <td>0.140169</td>\n",
       "      <td>0.118532</td>\n",
       "      <td>0.117592</td>\n",
       "      <td>0.116651</td>\n",
       "    </tr>\n",
       "    <tr>\n",
       "      <th>7</th>\n",
       "      <td>0.175917</td>\n",
       "      <td>0.141110</td>\n",
       "      <td>0.132643</td>\n",
       "      <td>0.123236</td>\n",
       "      <td>0.126058</td>\n",
       "    </tr>\n",
       "    <tr>\n",
       "      <th>8</th>\n",
       "      <td>0.180621</td>\n",
       "      <td>0.135466</td>\n",
       "      <td>0.122295</td>\n",
       "      <td>0.112888</td>\n",
       "      <td>0.104421</td>\n",
       "    </tr>\n",
       "    <tr>\n",
       "      <th>9</th>\n",
       "      <td>0.180621</td>\n",
       "      <td>0.175917</td>\n",
       "      <td>0.119473</td>\n",
       "      <td>0.122295</td>\n",
       "      <td>0.109125</td>\n",
       "    </tr>\n",
       "    <tr>\n",
       "      <th>10</th>\n",
       "      <td>0.218250</td>\n",
       "      <td>0.143932</td>\n",
       "      <td>0.125118</td>\n",
       "      <td>0.119473</td>\n",
       "      <td>0.103481</td>\n",
       "    </tr>\n",
       "  </tbody>\n",
       "</table>\n",
       "</div>"
      ],
      "text/plain": [
       "     depth_1   depth_2   depth_3   depth_4   depth_5\n",
       "1   0.180621  0.151458  0.138288  0.124177  0.111947\n",
       "2   0.175917  0.184384  0.134525  0.126999  0.115710\n",
       "3   0.183443  0.143932  0.133584  0.120414  0.114770\n",
       "4   0.180621  0.169332  0.123236  0.116651  0.116651\n",
       "5   0.180621  0.127940  0.127940  0.118532  0.114770\n",
       "6   0.168391  0.140169  0.118532  0.117592  0.116651\n",
       "7   0.175917  0.141110  0.132643  0.123236  0.126058\n",
       "8   0.180621  0.135466  0.122295  0.112888  0.104421\n",
       "9   0.180621  0.175917  0.119473  0.122295  0.109125\n",
       "10  0.218250  0.143932  0.125118  0.119473  0.103481"
      ]
     },
     "execution_count": 76,
     "metadata": {},
     "output_type": "execute_result"
    }
   ],
   "source": [
    "# Q5  RF  1 \n",
    "from sklearn . ensemble import RandomForestClassifier\n",
    "import matplotlib.pyplot as plt\n",
    "\n",
    "df = pd.DataFrame()\n",
    "clf_mat = dict()\n",
    "for d in range(1, 6):\n",
    "    clf_mat[d] = {}\n",
    "    dic = {}\n",
    "    for N in range(1, 11):\n",
    "        clf = RandomForestClassifier ( n_estimators =N , max_depth =d ,criterion ='entropy')\n",
    "        clf = clf .fit(X_train,y_train)\n",
    "        clf_mat[d][N] = clf\n",
    "        predicted = clf.predict(X_test)\n",
    "        dic[N] = 1 - accuracy_score(y_test, predicted)\n",
    "    df[f\"depth_{d}\"] = pd.Series(dic)\n",
    "    \n",
    "\n",
    "df"
   ]
  },
  {
   "cell_type": "code",
   "execution_count": 80,
   "id": "d629ce35",
   "metadata": {},
   "outputs": [
    {
     "data": {
      "image/png": "[encoded data removed]",
      "text/plain": [
       "<Figure size 640x480 with 1 Axes>"
      ]
     },
     "metadata": {},
     "output_type": "display_data"
    },
    {
     "data": {
      "text/html": [
       "<div>\n",
       "<style scoped>\n",
       "    .dataframe tbody tr th:only-of-type {\n",
       "        vertical-align: middle;\n",
       "    }\n",
       "\n",
       "    .dataframe tbody tr th {\n",
       "        vertical-align: top;\n",
       "    }\n",
       "\n",
       "    .dataframe thead th {\n",
       "        text-align: right;\n",
       "    }\n",
       "</style>\n",
       "<table border=\"1\" class=\"dataframe\">\n",
       "  <thead>\n",
       "    <tr style=\"text-align: right;\">\n",
       "      <th></th>\n",
       "      <th>depth_1</th>\n",
       "      <th>depth_2</th>\n",
       "      <th>depth_3</th>\n",
       "      <th>depth_4</th>\n",
       "      <th>depth_5</th>\n",
       "    </tr>\n",
       "  </thead>\n",
       "  <tbody>\n",
       "    <tr>\n",
       "      <th>count</th>\n",
       "      <td>10.000000</td>\n",
       "      <td>10.000000</td>\n",
       "      <td>10.000000</td>\n",
       "      <td>10.000000</td>\n",
       "      <td>10.000000</td>\n",
       "    </tr>\n",
       "    <tr>\n",
       "      <th>mean</th>\n",
       "      <td>0.182502</td>\n",
       "      <td>0.151364</td>\n",
       "      <td>0.127563</td>\n",
       "      <td>0.120226</td>\n",
       "      <td>0.113358</td>\n",
       "    </tr>\n",
       "    <tr>\n",
       "      <th>std</th>\n",
       "      <td>0.013260</td>\n",
       "      <td>0.018733</td>\n",
       "      <td>0.006873</td>\n",
       "      <td>0.004108</td>\n",
       "      <td>0.006581</td>\n",
       "    </tr>\n",
       "    <tr>\n",
       "      <th>min</th>\n",
       "      <td>0.168391</td>\n",
       "      <td>0.127940</td>\n",
       "      <td>0.118532</td>\n",
       "      <td>0.112888</td>\n",
       "      <td>0.103481</td>\n",
       "    </tr>\n",
       "    <tr>\n",
       "      <th>25%</th>\n",
       "      <td>0.177093</td>\n",
       "      <td>0.140405</td>\n",
       "      <td>0.122531</td>\n",
       "      <td>0.117827</td>\n",
       "      <td>0.109831</td>\n",
       "    </tr>\n",
       "    <tr>\n",
       "      <th>50%</th>\n",
       "      <td>0.180621</td>\n",
       "      <td>0.143932</td>\n",
       "      <td>0.126529</td>\n",
       "      <td>0.119944</td>\n",
       "      <td>0.114770</td>\n",
       "    </tr>\n",
       "    <tr>\n",
       "      <th>75%</th>\n",
       "      <td>0.180621</td>\n",
       "      <td>0.164864</td>\n",
       "      <td>0.133349</td>\n",
       "      <td>0.123001</td>\n",
       "      <td>0.116416</td>\n",
       "    </tr>\n",
       "    <tr>\n",
       "      <th>max</th>\n",
       "      <td>0.218250</td>\n",
       "      <td>0.184384</td>\n",
       "      <td>0.138288</td>\n",
       "      <td>0.126999</td>\n",
       "      <td>0.126058</td>\n",
       "    </tr>\n",
       "  </tbody>\n",
       "</table>\n",
       "</div>"
      ],
      "text/plain": [
       "         depth_1    depth_2    depth_3    depth_4    depth_5\n",
       "count  10.000000  10.000000  10.000000  10.000000  10.000000\n",
       "mean    0.182502   0.151364   0.127563   0.120226   0.113358\n",
       "std     0.013260   0.018733   0.006873   0.004108   0.006581\n",
       "min     0.168391   0.127940   0.118532   0.112888   0.103481\n",
       "25%     0.177093   0.140405   0.122531   0.117827   0.109831\n",
       "50%     0.180621   0.143932   0.126529   0.119944   0.114770\n",
       "75%     0.180621   0.164864   0.133349   0.123001   0.116416\n",
       "max     0.218250   0.184384   0.138288   0.126999   0.126058"
      ]
     },
     "execution_count": 80,
     "metadata": {},
     "output_type": "execute_result"
    }
   ],
   "source": [
    "# 2\n",
    "df.plot()\n",
    "plt.title(\"error rate\")\n",
    "plt.show()\n",
    "\n",
    "df.describe()\n",
    "\n",
    "# from the graph we get depth = 5, N = 10"
   ]
  },
  {
   "cell_type": "code",
   "execution_count": 81,
   "id": "3ed56124",
   "metadata": {},
   "outputs": [
    {
     "data": {
      "text/plain": [
       "0.896519285042333"
      ]
     },
     "execution_count": 81,
     "metadata": {},
     "output_type": "execute_result"
    }
   ],
   "source": [
    "# 3 accate is \n",
    "pred_best = clf_mat[5][10].predict(X_test)\n",
    "accuracy_score(y_test, pred_best)"
   ]
  },
  {
   "cell_type": "code",
   "execution_count": 136,
   "id": "d2d36ead",
   "metadata": {},
   "outputs": [
    {
     "data": {
      "text/plain": [
       "array([[167,  65],\n",
       "       [ 45, 786]], dtype=int64)"
      ]
     },
     "execution_count": 136,
     "metadata": {},
     "output_type": "execute_result"
    }
   ],
   "source": [
    "# 4 confusion is\n",
    "confusion_matrix(y_test, pred_best)"
   ]
  },
  {
   "cell_type": "code",
   "execution_count": 137,
   "id": "6ba8109f",
   "metadata": {},
   "outputs": [
    {
     "data": {
      "text/plain": [
       "(0.7198275862068966, 0.9458483754512635)"
      ]
     },
     "execution_count": 137,
     "metadata": {},
     "output_type": "execute_result"
    }
   ],
   "source": [
    "tn,fp,fn,tp=confusion_matrix(y_test, pred_best).ravel()\n",
    "tn,fp,fn,tp\n",
    "tnr=tn/(tn+fp)\n",
    "tpr=tp/(tp+fn)\n",
    "tnr,tpr"
   ]
  },
  {
   "cell_type": "code",
   "execution_count": 86,
   "id": "46516245",
   "metadata": {},
   "outputs": [
    {
     "data": {
      "text/plain": [
       "(0.863593603010348,\n",
       " array([[131, 101],\n",
       "        [ 44, 787]], dtype=int64))"
      ]
     },
     "execution_count": 86,
     "metadata": {},
     "output_type": "execute_result"
    }
   ],
   "source": [
    "# Q6 SVM line\n",
    "import sklearn.svm as svm\n",
    "\n",
    "lin_svm = svm.SVC(C=1.0, kernel='linear')\n",
    "lin_svm.fit(X_train, y_train)\n",
    "\n",
    "lin_pred = lin_svm.predict(X_test)\n",
    "accuracy_score(y_test, lin_pred), confusion_matrix(y_test, lin_pred)"
   ]
  },
  {
   "cell_type": "code",
   "execution_count": 89,
   "id": "2c9a8e3f",
   "metadata": {},
   "outputs": [
    {
     "data": {
      "text/plain": [
       "(0.8617121354656632,\n",
       " array([[126, 106],\n",
       "        [ 41, 790]], dtype=int64))"
      ]
     },
     "execution_count": 89,
     "metadata": {},
     "output_type": "execute_result"
    }
   ],
   "source": [
    "# poly\n",
    "poly_svm = svm.SVC(kernel='poly', degree=2)\n",
    "poly_svm.fit(X_train, y_train)\n",
    "\n",
    "poly_pred = poly_svm.predict(X_test)\n",
    "accuracy_score(y_test, poly_pred), confusion_matrix(y_test, poly_pred)"
   ]
  },
  {
   "cell_type": "code",
   "execution_count": 138,
   "id": "22c16ed9",
   "metadata": {},
   "outputs": [
    {
     "data": {
      "text/plain": [
       "(0.8673565380997178,\n",
       " array([[125, 107],\n",
       "        [ 34, 797]], dtype=int64))"
      ]
     },
     "execution_count": 138,
     "metadata": {},
     "output_type": "execute_result"
    }
   ],
   "source": [
    "# gaussian\n",
    "rbf_svm = svm.SVC(kernel='rbf')\n",
    "rbf_svm.fit(X_train, y_train)\n",
    "\n",
    "rbf_pred = rbf_svm.predict(X_test)\n",
    "accuracy_score(y_test, rbf_pred), confusion_matrix(y_test, rbf_pred)"
   ]
  },
  {
   "cell_type": "code",
   "execution_count": 140,
   "id": "c611f895",
   "metadata": {},
   "outputs": [
    {
     "data": {
      "text/plain": [
       "(0.5387931034482759, 0.9590854392298436)"
      ]
     },
     "execution_count": 140,
     "metadata": {},
     "output_type": "execute_result"
    }
   ],
   "source": [
    "# gaussian is the best, we only calculate gaussian's TNR TPR\n",
    "tn,fp,fn,tp=confusion_matrix(y_test, rbf_pred).ravel()\n",
    "tn,fp,fn,tp\n",
    "tnr=tn/(tn+fp)\n",
    "tpr=tp/(tp+fn)\n",
    "tnr,tpr"
   ]
  },
  {
   "cell_type": "code",
   "execution_count": 142,
   "id": "a2890c66",
   "metadata": {},
   "outputs": [
    {
     "data": {
      "text/plain": [
       "NSP     -0.928746\n",
       "ALTV    -0.489400\n",
       "LB      -0.251875\n",
       "Min     -0.158171\n",
       "Mean     0.059107\n",
       "label    1.000000\n",
       "Name: label, dtype: float64"
      ]
     },
     "execution_count": 142,
     "metadata": {},
     "output_type": "execute_result"
    }
   ],
   "source": [
    "# Q8  we can use corr\n",
    "df.corr()['label'].sort_values()\n",
    "# from the corr"
   ]
  }
 ],
 "metadata": {
  "kernelspec": {
   "display_name": "Python 3 (ipykernel)",
   "language": "python",
   "name": "python3"
  },
  "language_info": {
   "codemirror_mode": {
    "name": "ipython",
    "version": 3
   },
   "file_extension": ".py",
   "mimetype": "text/x-python",
   "name": "python",
   "nbconvert_exporter": "python",
   "pygments_lexer": "ipython3",
   "version": "3.8.2"
  }
 },
 "nbformat": 4,
 "nbformat_minor": 5
}
