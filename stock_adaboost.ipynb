{
  "cells": [
    {
      "cell_type": "code",
      "execution_count": null,
      "id": "df75f220",
      "metadata": {
        "colab": {
          "base_uri": "https://localhost:8080/",
          "height": 206
        },
        "id": "df75f220",
        "outputId": "3decd855-e2ba-494d-caa3-bb58b20a7598"
      },
      "outputs": [
        {
          "output_type": "execute_result",
          "data": {
            "text/plain": [
              "    Year  Week_Number  mean_return  volatility  label\n",
              "54  2022            1      -0.2012    0.842329    red\n",
              "55  2022            2       0.1002    0.604448  green\n",
              "56  2022            3       0.1525    0.591757  green\n",
              "57  2022            4      -0.3576    1.847664    red\n",
              "58  2022            5      -0.1206    0.762250    red"
            ],
            "text/html": [
              "\n",
              "  <div id=\"df-915e1761-b35e-4e85-ba93-9a6e780cedde\">\n",
              "    <div class=\"colab-df-container\">\n",
              "      <div>\n",
              "<style scoped>\n",
              "    .dataframe tbody tr th:only-of-type {\n",
              "        vertical-align: middle;\n",
              "    }\n",
              "\n",
              "    .dataframe tbody tr th {\n",
              "        vertical-align: top;\n",
              "    }\n",
              "\n",
              "    .dataframe thead th {\n",
              "        text-align: right;\n",
              "    }\n",
              "</style>\n",
              "<table border=\"1\" class=\"dataframe\">\n",
              "  <thead>\n",
              "    <tr style=\"text-align: right;\">\n",
              "      <th></th>\n",
              "      <th>Year</th>\n",
              "      <th>Week_Number</th>\n",
              "      <th>mean_return</th>\n",
              "      <th>volatility</th>\n",
              "      <th>label</th>\n",
              "    </tr>\n",
              "  </thead>\n",
              "  <tbody>\n",
              "    <tr>\n",
              "      <th>54</th>\n",
              "      <td>2022</td>\n",
              "      <td>1</td>\n",
              "      <td>-0.2012</td>\n",
              "      <td>0.842329</td>\n",
              "      <td>red</td>\n",
              "    </tr>\n",
              "    <tr>\n",
              "      <th>55</th>\n",
              "      <td>2022</td>\n",
              "      <td>2</td>\n",
              "      <td>0.1002</td>\n",
              "      <td>0.604448</td>\n",
              "      <td>green</td>\n",
              "    </tr>\n",
              "    <tr>\n",
              "      <th>56</th>\n",
              "      <td>2022</td>\n",
              "      <td>3</td>\n",
              "      <td>0.1525</td>\n",
              "      <td>0.591757</td>\n",
              "      <td>green</td>\n",
              "    </tr>\n",
              "    <tr>\n",
              "      <th>57</th>\n",
              "      <td>2022</td>\n",
              "      <td>4</td>\n",
              "      <td>-0.3576</td>\n",
              "      <td>1.847664</td>\n",
              "      <td>red</td>\n",
              "    </tr>\n",
              "    <tr>\n",
              "      <th>58</th>\n",
              "      <td>2022</td>\n",
              "      <td>5</td>\n",
              "      <td>-0.1206</td>\n",
              "      <td>0.762250</td>\n",
              "      <td>red</td>\n",
              "    </tr>\n",
              "  </tbody>\n",
              "</table>\n",
              "</div>\n",
              "      <button class=\"colab-df-convert\" onclick=\"convertToInteractive('df-915e1761-b35e-4e85-ba93-9a6e780cedde')\"\n",
              "              title=\"Convert this dataframe to an interactive table.\"\n",
              "              style=\"display:none;\">\n",
              "        \n",
              "  <svg xmlns=\"http://www.w3.org/2000/svg\" height=\"24px\"viewBox=\"0 0 24 24\"\n",
              "       width=\"24px\">\n",
              "    <path d=\"M0 0h24v24H0V0z\" fill=\"none\"/>\n",
              "    <path d=\"M18.56 5.44l.94 2.06.94-2.06 2.06-.94-2.06-.94-.94-2.06-.94 2.06-2.06.94zm-11 1L8.5 8.5l.94-2.06 2.06-.94-2.06-.94L8.5 2.5l-.94 2.06-2.06.94zm10 10l.94 2.06.94-2.06 2.06-.94-2.06-.94-.94-2.06-.94 2.06-2.06.94z\"/><path d=\"M17.41 7.96l-1.37-1.37c-.4-.4-.92-.59-1.43-.59-.52 0-1.04.2-1.43.59L10.3 9.45l-7.72 7.72c-.78.78-.78 2.05 0 2.83L4 21.41c.39.39.9.59 1.41.59.51 0 1.02-.2 1.41-.59l7.78-7.78 2.81-2.81c.8-.78.8-2.07 0-2.86zM5.41 20L4 18.59l7.72-7.72 1.47 1.35L5.41 20z\"/>\n",
              "  </svg>\n",
              "      </button>\n",
              "      \n",
              "  <style>\n",
              "    .colab-df-container {\n",
              "      display:flex;\n",
              "      flex-wrap:wrap;\n",
              "      gap: 12px;\n",
              "    }\n",
              "\n",
              "    .colab-df-convert {\n",
              "      background-color: #E8F0FE;\n",
              "      border: none;\n",
              "      border-radius: 50%;\n",
              "      cursor: pointer;\n",
              "      display: none;\n",
              "      fill: #1967D2;\n",
              "      height: 32px;\n",
              "      padding: 0 0 0 0;\n",
              "      width: 32px;\n",
              "    }\n",
              "\n",
              "    .colab-df-convert:hover {\n",
              "      background-color: #E2EBFA;\n",
              "      box-shadow: 0px 1px 2px rgba(60, 64, 67, 0.3), 0px 1px 3px 1px rgba(60, 64, 67, 0.15);\n",
              "      fill: #174EA6;\n",
              "    }\n",
              "\n",
              "    [theme=dark] .colab-df-convert {\n",
              "      background-color: #3B4455;\n",
              "      fill: #D2E3FC;\n",
              "    }\n",
              "\n",
              "    [theme=dark] .colab-df-convert:hover {\n",
              "      background-color: #434B5C;\n",
              "      box-shadow: 0px 1px 3px 1px rgba(0, 0, 0, 0.15);\n",
              "      filter: drop-shadow(0px 1px 2px rgba(0, 0, 0, 0.3));\n",
              "      fill: #FFFFFF;\n",
              "    }\n",
              "  </style>\n",
              "\n",
              "      <script>\n",
              "        const buttonEl =\n",
              "          document.querySelector('#df-915e1761-b35e-4e85-ba93-9a6e780cedde button.colab-df-convert');\n",
              "        buttonEl.style.display =\n",
              "          google.colab.kernel.accessAllowed ? 'block' : 'none';\n",
              "\n",
              "        async function convertToInteractive(key) {\n",
              "          const element = document.querySelector('#df-915e1761-b35e-4e85-ba93-9a6e780cedde');\n",
              "          const dataTable =\n",
              "            await google.colab.kernel.invokeFunction('convertToInteractive',\n",
              "                                                     [key], {});\n",
              "          if (!dataTable) return;\n",
              "\n",
              "          const docLinkHtml = 'Like what you see? Visit the ' +\n",
              "            '<a target=\"_blank\" href=https://colab.research.google.com/notebooks/data_table.ipynb>data table notebook</a>'\n",
              "            + ' to learn more about interactive tables.';\n",
              "          element.innerHTML = '';\n",
              "          dataTable['output_type'] = 'display_data';\n",
              "          await google.colab.output.renderOutput(dataTable, element);\n",
              "          const docLink = document.createElement('div');\n",
              "          docLink.innerHTML = docLinkHtml;\n",
              "          element.appendChild(docLink);\n",
              "        }\n",
              "      </script>\n",
              "    </div>\n",
              "  </div>\n",
              "  "
            ]
          },
          "metadata": {},
          "execution_count": 2
        }
      ],
      "source": [
        "#1\n",
        "import numpy as np\n",
        "from sklearn.model_selection import train_test_split\n",
        "# from sklearn.neighbors import KNeighborsClassifier\n",
        "from sklearn.metrics import accuracy_score\n",
        "import pandas as pd\n",
        "\n",
        "df = pd.read_csv(\"ZIONO_weekly_return_volatility.csv\")\n",
        "df.label = df.label.fillna(method='ffill')\n",
        "df_21 = df[df.Year==2021]\n",
        "df_22 = df[df.Year==2022]\n",
        "\n",
        "df_22.head(10)\n",
        "\n",
        "\n",
        "df_22.head() # mean\n"
      ]
    },
    {
      "cell_type": "code",
      "execution_count": null,
      "id": "7ec2ffe7",
      "metadata": {
        "colab": {
          "base_uri": "https://localhost:8080/",
          "height": 206
        },
        "id": "7ec2ffe7",
        "outputId": "7988539d-d1f6-49de-f1f2-c9311f91d1e3"
      },
      "outputs": [
        {
          "output_type": "execute_result",
          "data": {
            "text/plain": [
              "   mean_return  volatility  y\n",
              "0      -0.2586    0.729467  0\n",
              "1       0.0776    0.787634  1\n",
              "2       0.9710    2.437100  0\n",
              "3      -0.5042    1.114784  1\n",
              "4       0.1458    1.217830  0"
            ],
            "text/html": [
              "\n",
              "  <div id=\"df-1d4ab0e8-3400-414d-bb0b-f47e997394cc\">\n",
              "    <div class=\"colab-df-container\">\n",
              "      <div>\n",
              "<style scoped>\n",
              "    .dataframe tbody tr th:only-of-type {\n",
              "        vertical-align: middle;\n",
              "    }\n",
              "\n",
              "    .dataframe tbody tr th {\n",
              "        vertical-align: top;\n",
              "    }\n",
              "\n",
              "    .dataframe thead th {\n",
              "        text-align: right;\n",
              "    }\n",
              "</style>\n",
              "<table border=\"1\" class=\"dataframe\">\n",
              "  <thead>\n",
              "    <tr style=\"text-align: right;\">\n",
              "      <th></th>\n",
              "      <th>mean_return</th>\n",
              "      <th>volatility</th>\n",
              "      <th>y</th>\n",
              "    </tr>\n",
              "  </thead>\n",
              "  <tbody>\n",
              "    <tr>\n",
              "      <th>0</th>\n",
              "      <td>-0.2586</td>\n",
              "      <td>0.729467</td>\n",
              "      <td>0</td>\n",
              "    </tr>\n",
              "    <tr>\n",
              "      <th>1</th>\n",
              "      <td>0.0776</td>\n",
              "      <td>0.787634</td>\n",
              "      <td>1</td>\n",
              "    </tr>\n",
              "    <tr>\n",
              "      <th>2</th>\n",
              "      <td>0.9710</td>\n",
              "      <td>2.437100</td>\n",
              "      <td>0</td>\n",
              "    </tr>\n",
              "    <tr>\n",
              "      <th>3</th>\n",
              "      <td>-0.5042</td>\n",
              "      <td>1.114784</td>\n",
              "      <td>1</td>\n",
              "    </tr>\n",
              "    <tr>\n",
              "      <th>4</th>\n",
              "      <td>0.1458</td>\n",
              "      <td>1.217830</td>\n",
              "      <td>0</td>\n",
              "    </tr>\n",
              "  </tbody>\n",
              "</table>\n",
              "</div>\n",
              "      <button class=\"colab-df-convert\" onclick=\"convertToInteractive('df-1d4ab0e8-3400-414d-bb0b-f47e997394cc')\"\n",
              "              title=\"Convert this dataframe to an interactive table.\"\n",
              "              style=\"display:none;\">\n",
              "        \n",
              "  <svg xmlns=\"http://www.w3.org/2000/svg\" height=\"24px\"viewBox=\"0 0 24 24\"\n",
              "       width=\"24px\">\n",
              "    <path d=\"M0 0h24v24H0V0z\" fill=\"none\"/>\n",
              "    <path d=\"M18.56 5.44l.94 2.06.94-2.06 2.06-.94-2.06-.94-.94-2.06-.94 2.06-2.06.94zm-11 1L8.5 8.5l.94-2.06 2.06-.94-2.06-.94L8.5 2.5l-.94 2.06-2.06.94zm10 10l.94 2.06.94-2.06 2.06-.94-2.06-.94-.94-2.06-.94 2.06-2.06.94z\"/><path d=\"M17.41 7.96l-1.37-1.37c-.4-.4-.92-.59-1.43-.59-.52 0-1.04.2-1.43.59L10.3 9.45l-7.72 7.72c-.78.78-.78 2.05 0 2.83L4 21.41c.39.39.9.59 1.41.59.51 0 1.02-.2 1.41-.59l7.78-7.78 2.81-2.81c.8-.78.8-2.07 0-2.86zM5.41 20L4 18.59l7.72-7.72 1.47 1.35L5.41 20z\"/>\n",
              "  </svg>\n",
              "      </button>\n",
              "      \n",
              "  <style>\n",
              "    .colab-df-container {\n",
              "      display:flex;\n",
              "      flex-wrap:wrap;\n",
              "      gap: 12px;\n",
              "    }\n",
              "\n",
              "    .colab-df-convert {\n",
              "      background-color: #E8F0FE;\n",
              "      border: none;\n",
              "      border-radius: 50%;\n",
              "      cursor: pointer;\n",
              "      display: none;\n",
              "      fill: #1967D2;\n",
              "      height: 32px;\n",
              "      padding: 0 0 0 0;\n",
              "      width: 32px;\n",
              "    }\n",
              "\n",
              "    .colab-df-convert:hover {\n",
              "      background-color: #E2EBFA;\n",
              "      box-shadow: 0px 1px 2px rgba(60, 64, 67, 0.3), 0px 1px 3px 1px rgba(60, 64, 67, 0.15);\n",
              "      fill: #174EA6;\n",
              "    }\n",
              "\n",
              "    [theme=dark] .colab-df-convert {\n",
              "      background-color: #3B4455;\n",
              "      fill: #D2E3FC;\n",
              "    }\n",
              "\n",
              "    [theme=dark] .colab-df-convert:hover {\n",
              "      background-color: #434B5C;\n",
              "      box-shadow: 0px 1px 3px 1px rgba(0, 0, 0, 0.15);\n",
              "      filter: drop-shadow(0px 1px 2px rgba(0, 0, 0, 0.3));\n",
              "      fill: #FFFFFF;\n",
              "    }\n",
              "  </style>\n",
              "\n",
              "      <script>\n",
              "        const buttonEl =\n",
              "          document.querySelector('#df-1d4ab0e8-3400-414d-bb0b-f47e997394cc button.colab-df-convert');\n",
              "        buttonEl.style.display =\n",
              "          google.colab.kernel.accessAllowed ? 'block' : 'none';\n",
              "\n",
              "        async function convertToInteractive(key) {\n",
              "          const element = document.querySelector('#df-1d4ab0e8-3400-414d-bb0b-f47e997394cc');\n",
              "          const dataTable =\n",
              "            await google.colab.kernel.invokeFunction('convertToInteractive',\n",
              "                                                     [key], {});\n",
              "          if (!dataTable) return;\n",
              "\n",
              "          const docLinkHtml = 'Like what you see? Visit the ' +\n",
              "            '<a target=\"_blank\" href=https://colab.research.google.com/notebooks/data_table.ipynb>data table notebook</a>'\n",
              "            + ' to learn more about interactive tables.';\n",
              "          element.innerHTML = '';\n",
              "          dataTable['output_type'] = 'display_data';\n",
              "          await google.colab.output.renderOutput(dataTable, element);\n",
              "          const docLink = document.createElement('div');\n",
              "          docLink.innerHTML = docLinkHtml;\n",
              "          element.appendChild(docLink);\n",
              "        }\n",
              "      </script>\n",
              "    </div>\n",
              "  </div>\n",
              "  "
            ]
          },
          "metadata": {},
          "execution_count": 3
        }
      ],
      "source": [
        "# 1 , construct df_train\n",
        "from sklearn import tree\n",
        "from sklearn.preprocessing import LabelEncoder\n",
        "from sklearn.metrics import accuracy_score\n",
        "from sklearn.metrics import confusion_matrix\n",
        "from scipy import stats\n",
        "\n",
        "x_21 = df_21[[\"mean_return\"]].values\n",
        "le = LabelEncoder()\n",
        "y_21 = le.fit_transform(df_21[\"label\"].values)\n",
        "y_22 = le.transform(df_22[\"label\"].values)\n",
        "\n",
        "\n",
        "df_train = pd.DataFrame({'mean_return': df_21[\"mean_return\"].values, 'volatility':df_21['volatility'].values, 'y': y_21})\n",
        "df_train.head()"
      ]
    },
    {
      "cell_type": "code",
      "execution_count": null,
      "id": "8f2f0224",
      "metadata": {
        "colab": {
          "base_uri": "https://localhost:8080/",
          "height": 601
        },
        "id": "8f2f0224",
        "outputId": "e3228603-0b74-48b1-e78d-382cc9077074"
      },
      "outputs": [
        {
          "output_type": "display_data",
          "data": {
            "text/plain": [
              "<Figure size 640x480 with 1 Axes>"
            ],
            "image/png": "[encoded data removed]"
          },
          "metadata": {}
        },
        {
          "output_type": "execute_result",
          "data": {
            "text/plain": [
              "(LogisticRe    12\n",
              " GaussianNB     2\n",
              " SVC(kernel     1\n",
              " dtype: int64,\n",
              " LogisticRe    0.461538\n",
              " GaussianNB    0.076923\n",
              " SVC(kernel    0.250000\n",
              " dtype: float64)"
            ]
          },
          "metadata": {},
          "execution_count": 6
        }
      ],
      "source": [
        "from sklearn . ensemble import RandomForestClassifier\n",
        "import matplotlib.pyplot as plt\n",
        "from sklearn .svm import SVC\n",
        "from sklearn.neighbors import KNeighborsClassifier\n",
        "from sklearn.naive_bayes import GaussianNB\n",
        "from sklearn.linear_model import LogisticRegression\n",
        "from sklearn . ensemble import AdaBoostClassifier\n",
        "\n",
        "\n",
        "X = df_train[[\"mean_return\", \"volatility\"]].values\n",
        "Y = df_train.y.values\n",
        "\n",
        "df = pd.DataFrame()\n",
        "\n",
        "base_estimator_list = [LogisticRegression(), GaussianNB (),\n",
        "                        SVC(probability =True, kernel ='linear'),]\n",
        "learn_rate = 1.0\n",
        "for be in base_estimator_list:\n",
        "    \n",
        "    dic = {}\n",
        "    for N in range(1, 16):\n",
        "        \n",
        "        clf = AdaBoostClassifier(n_estimators=N, estimator =be, learning_rate=learn_rate)\n",
        "        clf.fit(X, Y)\n",
        "        new_x = df_22[[\"mean_return\", \"volatility\"]].values\n",
        "        predicted = clf.predict(new_x)\n",
        "        \n",
        "\n",
        "        # 1 accuracy\n",
        "        dic[N] = np.mean(predicted == y_22)\n",
        "#         print(dic[N])\n",
        "    df[f\"{be}\"[:10]] = 1- pd.Series(dic)\n",
        "   \n",
        "# 1 plot for lambda = 1\n",
        "df.plot()\n",
        "plt.title(\"error rate for lambda=1.0\")\n",
        "plt.show()\n",
        "\n",
        "df.idxmin(), df.min()\n"
      ]
    },
    {
      "cell_type": "code",
      "execution_count": null,
      "id": "fc06724f",
      "metadata": {
        "colab": {
          "base_uri": "https://localhost:8080/",
          "height": 601
        },
        "id": "fc06724f",
        "outputId": "ffb99505-97d6-4de2-bf57-dd65a4d4b580"
      },
      "outputs": [
        {
          "output_type": "display_data",
          "data": {
            "text/plain": [
              "<Figure size 640x480 with 1 Axes>"
            ],
            "image/png": "[encoded data removed]"
          },
          "metadata": {}
        },
        {
          "output_type": "execute_result",
          "data": {
            "text/plain": [
              "(LogisticRe    15\n",
              " GaussianNB     4\n",
              " SVC(kernel     4\n",
              " dtype: int64,\n",
              " LogisticRe    0.480769\n",
              " GaussianNB    0.076923\n",
              " SVC(kernel    0.096154\n",
              " dtype: float64)"
            ]
          },
          "metadata": {},
          "execution_count": 7
        }
      ],
      "source": [
        "learn_rate = 0.5\n",
        "for be in base_estimator_list:\n",
        "    \n",
        "    dic = {}\n",
        "    for N in range(1, 16):\n",
        "        \n",
        "        clf = AdaBoostClassifier(n_estimators=N, estimator =be, learning_rate=learn_rate)\n",
        "        clf.fit(X, Y)\n",
        "        new_x = df_22[[\"mean_return\", \"volatility\"]].values\n",
        "        predicted = clf.predict(new_x)\n",
        "        \n",
        "\n",
        "        # 1 accuracy\n",
        "        dic[N] = np.mean(predicted == y_22)\n",
        "#         print(dic[N])\n",
        "    df[f\"{be}\"[:10]] = 1- pd.Series(dic)\n",
        "\n",
        "# 1 plot for lambda = 0.5\n",
        "df.plot()\n",
        "plt.title(\"error rate for lambda=0.5\")\n",
        "plt.show()\n",
        "\n",
        "df.idxmin(), df.min()"
      ]
    },
    {
      "cell_type": "code",
      "execution_count": null,
      "id": "495f1ba9",
      "metadata": {
        "colab": {
          "base_uri": "https://localhost:8080/"
        },
        "id": "495f1ba9",
        "outputId": "5e2bef5e-14e8-40d0-a796-548d04f4ea3a"
      },
      "outputs": [
        {
          "output_type": "execute_result",
          "data": {
            "text/plain": [
              "LogisticRe    15\n",
              "GaussianNB     4\n",
              "SVC(kernel     4\n",
              "dtype: int64"
            ]
          },
          "metadata": {},
          "execution_count": 8
        }
      ],
      "source": [
        "# 2\n",
        "df.idxmin()\n",
        "\n",
        "# from the result below we can see \n",
        "# Logistic best n = 15\n",
        "# GaussianNB best n = 4\n",
        "# SVM        best n = 9"
      ]
    },
    {
      "cell_type": "code",
      "execution_count": null,
      "id": "850e48ad",
      "metadata": {
        "id": "850e48ad",
        "outputId": "363e6341-7c52-4925-b203-018960fb3d2e",
        "colab": {
          "base_uri": "https://localhost:8080/"
        }
      },
      "outputs": [
        {
          "output_type": "execute_result",
          "data": {
            "text/plain": [
              "LogisticRe    0.519231\n",
              "GaussianNB    0.923077\n",
              "SVC(kernel    0.903846\n",
              "dtype: float64"
            ]
          },
          "metadata": {},
          "execution_count": 9
        }
      ],
      "source": [
        "# 3. accuracy\n",
        "1 - df.min()\n",
        "\n",
        "# from the result below we can see\n",
        "# accuracy for Gaussian 0.923\n",
        "# accuracy for LogisticRegression 0.52     \n",
        "# accuracy for SVM   0.923"
      ]
    },
    {
      "cell_type": "code",
      "execution_count": null,
      "id": "2fadfa8c",
      "metadata": {
        "id": "2fadfa8c"
      },
      "outputs": [],
      "source": [
        "# 4  Combine the result for lambda = 1 and lambda = 0.5\n",
        "# we can see the best estimator here is GaussianNB"
      ]
    },
    {
      "cell_type": "code",
      "execution_count": null,
      "id": "387d0101",
      "metadata": {
        "id": "387d0101"
      },
      "outputs": [],
      "source": [
        "# 5 compare\n",
        "\n",
        "# fil the GaussianNV with best lambda and N\n",
        "learn_rate = 0.5\n",
        "N = 4\n",
        "        \n",
        "clf = AdaBoostClassifier(n_estimators=N, estimator=GaussianNB (), learning_rate=learn_rate)\n",
        "clf.fit(X, Y)\n",
        "new_x = df_22[[\"mean_return\", \"volatility\"]].values\n",
        "predicted = clf.predict(new_x)\n"
      ]
    },
    {
      "cell_type": "code",
      "execution_count": null,
      "id": "7d1185eb",
      "metadata": {
        "id": "7d1185eb",
        "outputId": "284bd80f-db3b-4c53-d6d7-0de9e59f21ba",
        "colab": {
          "base_uri": "https://localhost:8080/",
          "height": 238
        }
      },
      "outputs": [
        {
          "output_type": "execute_result",
          "data": {
            "text/plain": [
              "                 Close  Year\n",
              "Week_Number                 \n",
              "1            26.290001  2022\n",
              "2            26.420000  2022\n",
              "3            26.580000  2022\n",
              "4            26.090000  2022\n",
              "5            25.930000  2022"
            ],
            "text/html": [
              "\n",
              "  <div id=\"df-5e21b777-26c4-4723-a581-eb0f978f75a3\">\n",
              "    <div class=\"colab-df-container\">\n",
              "      <div>\n",
              "<style scoped>\n",
              "    .dataframe tbody tr th:only-of-type {\n",
              "        vertical-align: middle;\n",
              "    }\n",
              "\n",
              "    .dataframe tbody tr th {\n",
              "        vertical-align: top;\n",
              "    }\n",
              "\n",
              "    .dataframe thead th {\n",
              "        text-align: right;\n",
              "    }\n",
              "</style>\n",
              "<table border=\"1\" class=\"dataframe\">\n",
              "  <thead>\n",
              "    <tr style=\"text-align: right;\">\n",
              "      <th></th>\n",
              "      <th>Close</th>\n",
              "      <th>Year</th>\n",
              "    </tr>\n",
              "    <tr>\n",
              "      <th>Week_Number</th>\n",
              "      <th></th>\n",
              "      <th></th>\n",
              "    </tr>\n",
              "  </thead>\n",
              "  <tbody>\n",
              "    <tr>\n",
              "      <th>1</th>\n",
              "      <td>26.290001</td>\n",
              "      <td>2022</td>\n",
              "    </tr>\n",
              "    <tr>\n",
              "      <th>2</th>\n",
              "      <td>26.420000</td>\n",
              "      <td>2022</td>\n",
              "    </tr>\n",
              "    <tr>\n",
              "      <th>3</th>\n",
              "      <td>26.580000</td>\n",
              "      <td>2022</td>\n",
              "    </tr>\n",
              "    <tr>\n",
              "      <th>4</th>\n",
              "      <td>26.090000</td>\n",
              "      <td>2022</td>\n",
              "    </tr>\n",
              "    <tr>\n",
              "      <th>5</th>\n",
              "      <td>25.930000</td>\n",
              "      <td>2022</td>\n",
              "    </tr>\n",
              "  </tbody>\n",
              "</table>\n",
              "</div>\n",
              "      <button class=\"colab-df-convert\" onclick=\"convertToInteractive('df-5e21b777-26c4-4723-a581-eb0f978f75a3')\"\n",
              "              title=\"Convert this dataframe to an interactive table.\"\n",
              "              style=\"display:none;\">\n",
              "        \n",
              "  <svg xmlns=\"http://www.w3.org/2000/svg\" height=\"24px\"viewBox=\"0 0 24 24\"\n",
              "       width=\"24px\">\n",
              "    <path d=\"M0 0h24v24H0V0z\" fill=\"none\"/>\n",
              "    <path d=\"M18.56 5.44l.94 2.06.94-2.06 2.06-.94-2.06-.94-.94-2.06-.94 2.06-2.06.94zm-11 1L8.5 8.5l.94-2.06 2.06-.94-2.06-.94L8.5 2.5l-.94 2.06-2.06.94zm10 10l.94 2.06.94-2.06 2.06-.94-2.06-.94-.94-2.06-.94 2.06-2.06.94z\"/><path d=\"M17.41 7.96l-1.37-1.37c-.4-.4-.92-.59-1.43-.59-.52 0-1.04.2-1.43.59L10.3 9.45l-7.72 7.72c-.78.78-.78 2.05 0 2.83L4 21.41c.39.39.9.59 1.41.59.51 0 1.02-.2 1.41-.59l7.78-7.78 2.81-2.81c.8-.78.8-2.07 0-2.86zM5.41 20L4 18.59l7.72-7.72 1.47 1.35L5.41 20z\"/>\n",
              "  </svg>\n",
              "      </button>\n",
              "      \n",
              "  <style>\n",
              "    .colab-df-container {\n",
              "      display:flex;\n",
              "      flex-wrap:wrap;\n",
              "      gap: 12px;\n",
              "    }\n",
              "\n",
              "    .colab-df-convert {\n",
              "      background-color: #E8F0FE;\n",
              "      border: none;\n",
              "      border-radius: 50%;\n",
              "      cursor: pointer;\n",
              "      display: none;\n",
              "      fill: #1967D2;\n",
              "      height: 32px;\n",
              "      padding: 0 0 0 0;\n",
              "      width: 32px;\n",
              "    }\n",
              "\n",
              "    .colab-df-convert:hover {\n",
              "      background-color: #E2EBFA;\n",
              "      box-shadow: 0px 1px 2px rgba(60, 64, 67, 0.3), 0px 1px 3px 1px rgba(60, 64, 67, 0.15);\n",
              "      fill: #174EA6;\n",
              "    }\n",
              "\n",
              "    [theme=dark] .colab-df-convert {\n",
              "      background-color: #3B4455;\n",
              "      fill: #D2E3FC;\n",
              "    }\n",
              "\n",
              "    [theme=dark] .colab-df-convert:hover {\n",
              "      background-color: #434B5C;\n",
              "      box-shadow: 0px 1px 3px 1px rgba(0, 0, 0, 0.15);\n",
              "      filter: drop-shadow(0px 1px 2px rgba(0, 0, 0, 0.3));\n",
              "      fill: #FFFFFF;\n",
              "    }\n",
              "  </style>\n",
              "\n",
              "      <script>\n",
              "        const buttonEl =\n",
              "          document.querySelector('#df-5e21b777-26c4-4723-a581-eb0f978f75a3 button.colab-df-convert');\n",
              "        buttonEl.style.display =\n",
              "          google.colab.kernel.accessAllowed ? 'block' : 'none';\n",
              "\n",
              "        async function convertToInteractive(key) {\n",
              "          const element = document.querySelector('#df-5e21b777-26c4-4723-a581-eb0f978f75a3');\n",
              "          const dataTable =\n",
              "            await google.colab.kernel.invokeFunction('convertToInteractive',\n",
              "                                                     [key], {});\n",
              "          if (!dataTable) return;\n",
              "\n",
              "          const docLinkHtml = 'Like what you see? Visit the ' +\n",
              "            '<a target=\"_blank\" href=https://colab.research.google.com/notebooks/data_table.ipynb>data table notebook</a>'\n",
              "            + ' to learn more about interactive tables.';\n",
              "          element.innerHTML = '';\n",
              "          dataTable['output_type'] = 'display_data';\n",
              "          await google.colab.output.renderOutput(dataTable, element);\n",
              "          const docLink = document.createElement('div');\n",
              "          docLink.innerHTML = docLinkHtml;\n",
              "          element.appendChild(docLink);\n",
              "        }\n",
              "      </script>\n",
              "    </div>\n",
              "  </div>\n",
              "  "
            ]
          },
          "metadata": {},
          "execution_count": 12
        }
      ],
      "source": [
        "\n",
        "\n",
        "# df\n",
        "df_detail = pd.read_csv(\"ZIONO_weekly_return_detailed.csv\")\n",
        "df_detail.head(22)\n",
        "\n",
        "\n",
        "df_detail_22 = df_detail[[\"Close\", \"Week_Number\", \"Year\"]]\n",
        "df_detail_22 = df_detail_22[df_detail_22.Year == 2022]\n",
        "df_22_week = df_detail_22.groupby(\"Week_Number\").last()\n",
        "df_22_week.head()"
      ]
    },
    {
      "cell_type": "code",
      "execution_count": null,
      "id": "84b3e264",
      "metadata": {
        "id": "84b3e264",
        "outputId": "94d86cc8-f28a-478c-9abc-d2c5d3aaf6b2",
        "colab": {
          "base_uri": "https://localhost:8080/"
        }
      },
      "outputs": [
        {
          "output_type": "execute_result",
          "data": {
            "text/plain": [
              "-0.9200000762939453"
            ]
          },
          "metadata": {},
          "execution_count": 13
        }
      ],
      "source": [
        "# buy_and_hold\n",
        "buy_hold_add = df_22_week.Close.values[-1] - df_22_week.Close.values[0]\n",
        "buy_hold_add"
      ]
    },
    {
      "cell_type": "code",
      "execution_count": null,
      "id": "3144e214",
      "metadata": {
        "id": "3144e214",
        "outputId": "1b45e46d-096e-4106-d340-1a233ef272e5",
        "colab": {
          "base_uri": "https://localhost:8080/"
        }
      },
      "outputs": [
        {
          "output_type": "execute_result",
          "data": {
            "text/plain": [
              "1.9399967193603516"
            ]
          },
          "metadata": {},
          "execution_count": 14
        }
      ],
      "source": [
        "def get_benefit_my_strategy(pred_labels, close_prices):\n",
        "    money = 100\n",
        "    hold_share = False\n",
        "    for i in range(len(pred_labels)): # 1 red\n",
        "#         print(pred_labels[i], close_prices[i])\n",
        "        \n",
        "        if (pred_labels[i] == 1): # red---> if not owning, buy one\n",
        "            if hold_share:\n",
        "                pass\n",
        "            else:\n",
        "                hold_share = True\n",
        "                money -= close_prices[i]\n",
        "        else:           # green ---->if owning, sell it\n",
        "            if hold_share:\n",
        "                hold_share = False\n",
        "                money += close_prices[i]\n",
        "                \n",
        "        \n",
        "    share_value = close_prices[-1] if hold_share else 0\n",
        "    return money + share_value - 100\n",
        "                    \n",
        "\n",
        "get_benefit_my_strategy( predicted.tolist(), df_22_week.Close.values.tolist())"
      ]
    },
    {
      "cell_type": "code",
      "execution_count": null,
      "id": "23a2a718",
      "metadata": {
        "id": "23a2a718"
      },
      "outputs": [],
      "source": [
        "# we can see it is much better than buy-and-hold"
      ]
    }
  ],
  "metadata": {
    "kernelspec": {
      "display_name": "Python 3 (ipykernel)",
      "language": "python",
      "name": "python3"
    },
    "language_info": {
      "codemirror_mode": {
        "name": "ipython",
        "version": 3
      },
      "file_extension": ".py",
      "mimetype": "text/x-python",
      "name": "python",
      "nbconvert_exporter": "python",
      "pygments_lexer": "ipython3",
      "version": "3.8.16"
    },
    "colab": {
      "provenance": []
    }
  },
  "nbformat": 4,
  "nbformat_minor": 5
}